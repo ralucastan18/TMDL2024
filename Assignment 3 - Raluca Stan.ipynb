{
 "cells": [
  {
   "attachments": {},
   "cell_type": "markdown",
   "id": "43554d37",
   "metadata": {},
   "source": [
    "# Turing Machine and Deep Learning 2023\n",
    "\n",
    "## Assignment Unupervised ML\n",
    "\n",
    "This notebook is meant for you to review and reflect on the content of Lecture 3, which was mainly about unsupervised learning problems. As with last week, this notebook should not be too much quantitative work (lines of code) but keep in mind that running this notebook may take a longer time than you may be used to for python programs (*training good models take time!*) \n",
    "\n",
    "### Handing in your Assignment\n",
    "\n",
    "Git is an invaluable resource to researchers and developers, and thus for this course, all course material will be (additionally) shared on GitHub. Though there is a tiny bit of a learning curve, this is worth the effort. To hand in your assignment (applicable to all weeks):\n",
    "\n",
    "1. Create a folder called \"Week 2\" and copy this notebook and any other files or data that may be needed.\n",
    "2. Finish the notebook and commit and push regularly. Your final commit before the deadline will be graded. \n",
    "\n",
    "\n",
    "### Grading\n",
    "\n",
    "Each one of the (sub-)questions below will be graded either 0 (insufficient), 1 (sufficient) or 2 (good). If $N$ is the number of sub-questions, and $p_i$ is your score for sub-question $i$, your total grade $G$ for this assignment is:\n",
    "$$G=\\frac{1}{2 N}\\sum_{i=0}^{N}p_i$$"
   ]
  },
  {
   "cell_type": "code",
   "execution_count": 1,
   "id": "52fbab8b",
   "metadata": {},
   "outputs": [],
   "source": [
    "# load common libraries\n",
    "import numpy as np                 # maths\n",
    "import matplotlib.pyplot as plt    # plotting\n",
    "import pandas as pd                # data manipulation\n",
    "from tqdm import tqdm              # loading bar\n",
    "from time import perf_counter      # timer"
   ]
  },
  {
   "attachments": {},
   "cell_type": "markdown",
   "id": "bf4c3a0a",
   "metadata": {},
   "source": [
    "# Q1 Loading and preprocessing data\n",
    "\n",
    "In this repository, you should find a file called `tmdb_5000_movies.csv` which is information from a subset of movies on The Movie Database."
   ]
  },
  {
   "attachments": {},
   "cell_type": "markdown",
   "id": "40715541",
   "metadata": {},
   "source": [
    "### Q.1.1 \n",
    "Use pandas to read in the csv file (refer to [read_csv](https://pandas.pydata.org/docs/reference/api/pandas.read_csv.html) if you're unfamiliar)."
   ]
  },
  {
   "cell_type": "code",
   "execution_count": 2,
   "id": "c10a5202",
   "metadata": {},
   "outputs": [
    {
     "data": {
      "text/html": [
       "<div>\n",
       "<style scoped>\n",
       "    .dataframe tbody tr th:only-of-type {\n",
       "        vertical-align: middle;\n",
       "    }\n",
       "\n",
       "    .dataframe tbody tr th {\n",
       "        vertical-align: top;\n",
       "    }\n",
       "\n",
       "    .dataframe thead th {\n",
       "        text-align: right;\n",
       "    }\n",
       "</style>\n",
       "<table border=\"1\" class=\"dataframe\">\n",
       "  <thead>\n",
       "    <tr style=\"text-align: right;\">\n",
       "      <th></th>\n",
       "      <th>budget</th>\n",
       "      <th>genres</th>\n",
       "      <th>homepage</th>\n",
       "      <th>id</th>\n",
       "      <th>keywords</th>\n",
       "      <th>original_language</th>\n",
       "      <th>original_title</th>\n",
       "      <th>overview</th>\n",
       "      <th>popularity</th>\n",
       "      <th>production_companies</th>\n",
       "      <th>production_countries</th>\n",
       "      <th>release_date</th>\n",
       "      <th>revenue</th>\n",
       "      <th>runtime</th>\n",
       "      <th>spoken_languages</th>\n",
       "      <th>status</th>\n",
       "      <th>tagline</th>\n",
       "      <th>title</th>\n",
       "      <th>vote_average</th>\n",
       "      <th>vote_count</th>\n",
       "    </tr>\n",
       "  </thead>\n",
       "  <tbody>\n",
       "    <tr>\n",
       "      <th>0</th>\n",
       "      <td>237000000</td>\n",
       "      <td>[{\"id\": 28, \"name\": \"Action\"}, {\"id\": 12, \"nam...</td>\n",
       "      <td>http://www.avatarmovie.com/</td>\n",
       "      <td>19995</td>\n",
       "      <td>[{\"id\": 1463, \"name\": \"culture clash\"}, {\"id\":...</td>\n",
       "      <td>en</td>\n",
       "      <td>Avatar</td>\n",
       "      <td>In the 22nd century, a paraplegic Marine is di...</td>\n",
       "      <td>150.437577</td>\n",
       "      <td>[{\"name\": \"Ingenious Film Partners\", \"id\": 289...</td>\n",
       "      <td>[{\"iso_3166_1\": \"US\", \"name\": \"United States o...</td>\n",
       "      <td>2009-12-10</td>\n",
       "      <td>2787965087</td>\n",
       "      <td>162.0</td>\n",
       "      <td>[{\"iso_639_1\": \"en\", \"name\": \"English\"}, {\"iso...</td>\n",
       "      <td>Released</td>\n",
       "      <td>Enter the World of Pandora.</td>\n",
       "      <td>Avatar</td>\n",
       "      <td>7.2</td>\n",
       "      <td>11800</td>\n",
       "    </tr>\n",
       "    <tr>\n",
       "      <th>1</th>\n",
       "      <td>300000000</td>\n",
       "      <td>[{\"id\": 12, \"name\": \"Adventure\"}, {\"id\": 14, \"...</td>\n",
       "      <td>http://disney.go.com/disneypictures/pirates/</td>\n",
       "      <td>285</td>\n",
       "      <td>[{\"id\": 270, \"name\": \"ocean\"}, {\"id\": 726, \"na...</td>\n",
       "      <td>en</td>\n",
       "      <td>Pirates of the Caribbean: At World's End</td>\n",
       "      <td>Captain Barbossa, long believed to be dead, ha...</td>\n",
       "      <td>139.082615</td>\n",
       "      <td>[{\"name\": \"Walt Disney Pictures\", \"id\": 2}, {\"...</td>\n",
       "      <td>[{\"iso_3166_1\": \"US\", \"name\": \"United States o...</td>\n",
       "      <td>2007-05-19</td>\n",
       "      <td>961000000</td>\n",
       "      <td>169.0</td>\n",
       "      <td>[{\"iso_639_1\": \"en\", \"name\": \"English\"}]</td>\n",
       "      <td>Released</td>\n",
       "      <td>At the end of the world, the adventure begins.</td>\n",
       "      <td>Pirates of the Caribbean: At World's End</td>\n",
       "      <td>6.9</td>\n",
       "      <td>4500</td>\n",
       "    </tr>\n",
       "    <tr>\n",
       "      <th>2</th>\n",
       "      <td>245000000</td>\n",
       "      <td>[{\"id\": 28, \"name\": \"Action\"}, {\"id\": 12, \"nam...</td>\n",
       "      <td>http://www.sonypictures.com/movies/spectre/</td>\n",
       "      <td>206647</td>\n",
       "      <td>[{\"id\": 470, \"name\": \"spy\"}, {\"id\": 818, \"name...</td>\n",
       "      <td>en</td>\n",
       "      <td>Spectre</td>\n",
       "      <td>A cryptic message from Bond’s past sends him o...</td>\n",
       "      <td>107.376788</td>\n",
       "      <td>[{\"name\": \"Columbia Pictures\", \"id\": 5}, {\"nam...</td>\n",
       "      <td>[{\"iso_3166_1\": \"GB\", \"name\": \"United Kingdom\"...</td>\n",
       "      <td>2015-10-26</td>\n",
       "      <td>880674609</td>\n",
       "      <td>148.0</td>\n",
       "      <td>[{\"iso_639_1\": \"fr\", \"name\": \"Fran\\u00e7ais\"},...</td>\n",
       "      <td>Released</td>\n",
       "      <td>A Plan No One Escapes</td>\n",
       "      <td>Spectre</td>\n",
       "      <td>6.3</td>\n",
       "      <td>4466</td>\n",
       "    </tr>\n",
       "    <tr>\n",
       "      <th>3</th>\n",
       "      <td>250000000</td>\n",
       "      <td>[{\"id\": 28, \"name\": \"Action\"}, {\"id\": 80, \"nam...</td>\n",
       "      <td>http://www.thedarkknightrises.com/</td>\n",
       "      <td>49026</td>\n",
       "      <td>[{\"id\": 849, \"name\": \"dc comics\"}, {\"id\": 853,...</td>\n",
       "      <td>en</td>\n",
       "      <td>The Dark Knight Rises</td>\n",
       "      <td>Following the death of District Attorney Harve...</td>\n",
       "      <td>112.312950</td>\n",
       "      <td>[{\"name\": \"Legendary Pictures\", \"id\": 923}, {\"...</td>\n",
       "      <td>[{\"iso_3166_1\": \"US\", \"name\": \"United States o...</td>\n",
       "      <td>2012-07-16</td>\n",
       "      <td>1084939099</td>\n",
       "      <td>165.0</td>\n",
       "      <td>[{\"iso_639_1\": \"en\", \"name\": \"English\"}]</td>\n",
       "      <td>Released</td>\n",
       "      <td>The Legend Ends</td>\n",
       "      <td>The Dark Knight Rises</td>\n",
       "      <td>7.6</td>\n",
       "      <td>9106</td>\n",
       "    </tr>\n",
       "    <tr>\n",
       "      <th>4</th>\n",
       "      <td>260000000</td>\n",
       "      <td>[{\"id\": 28, \"name\": \"Action\"}, {\"id\": 12, \"nam...</td>\n",
       "      <td>http://movies.disney.com/john-carter</td>\n",
       "      <td>49529</td>\n",
       "      <td>[{\"id\": 818, \"name\": \"based on novel\"}, {\"id\":...</td>\n",
       "      <td>en</td>\n",
       "      <td>John Carter</td>\n",
       "      <td>John Carter is a war-weary, former military ca...</td>\n",
       "      <td>43.926995</td>\n",
       "      <td>[{\"name\": \"Walt Disney Pictures\", \"id\": 2}]</td>\n",
       "      <td>[{\"iso_3166_1\": \"US\", \"name\": \"United States o...</td>\n",
       "      <td>2012-03-07</td>\n",
       "      <td>284139100</td>\n",
       "      <td>132.0</td>\n",
       "      <td>[{\"iso_639_1\": \"en\", \"name\": \"English\"}]</td>\n",
       "      <td>Released</td>\n",
       "      <td>Lost in our world, found in another.</td>\n",
       "      <td>John Carter</td>\n",
       "      <td>6.1</td>\n",
       "      <td>2124</td>\n",
       "    </tr>\n",
       "    <tr>\n",
       "      <th>...</th>\n",
       "      <td>...</td>\n",
       "      <td>...</td>\n",
       "      <td>...</td>\n",
       "      <td>...</td>\n",
       "      <td>...</td>\n",
       "      <td>...</td>\n",
       "      <td>...</td>\n",
       "      <td>...</td>\n",
       "      <td>...</td>\n",
       "      <td>...</td>\n",
       "      <td>...</td>\n",
       "      <td>...</td>\n",
       "      <td>...</td>\n",
       "      <td>...</td>\n",
       "      <td>...</td>\n",
       "      <td>...</td>\n",
       "      <td>...</td>\n",
       "      <td>...</td>\n",
       "      <td>...</td>\n",
       "      <td>...</td>\n",
       "    </tr>\n",
       "    <tr>\n",
       "      <th>4798</th>\n",
       "      <td>220000</td>\n",
       "      <td>[{\"id\": 28, \"name\": \"Action\"}, {\"id\": 80, \"nam...</td>\n",
       "      <td>NaN</td>\n",
       "      <td>9367</td>\n",
       "      <td>[{\"id\": 5616, \"name\": \"united states\\u2013mexi...</td>\n",
       "      <td>es</td>\n",
       "      <td>El Mariachi</td>\n",
       "      <td>El Mariachi just wants to play his guitar and ...</td>\n",
       "      <td>14.269792</td>\n",
       "      <td>[{\"name\": \"Columbia Pictures\", \"id\": 5}]</td>\n",
       "      <td>[{\"iso_3166_1\": \"MX\", \"name\": \"Mexico\"}, {\"iso...</td>\n",
       "      <td>1992-09-04</td>\n",
       "      <td>2040920</td>\n",
       "      <td>81.0</td>\n",
       "      <td>[{\"iso_639_1\": \"es\", \"name\": \"Espa\\u00f1ol\"}]</td>\n",
       "      <td>Released</td>\n",
       "      <td>He didn't come looking for trouble, but troubl...</td>\n",
       "      <td>El Mariachi</td>\n",
       "      <td>6.6</td>\n",
       "      <td>238</td>\n",
       "    </tr>\n",
       "    <tr>\n",
       "      <th>4799</th>\n",
       "      <td>9000</td>\n",
       "      <td>[{\"id\": 35, \"name\": \"Comedy\"}, {\"id\": 10749, \"...</td>\n",
       "      <td>NaN</td>\n",
       "      <td>72766</td>\n",
       "      <td>[]</td>\n",
       "      <td>en</td>\n",
       "      <td>Newlyweds</td>\n",
       "      <td>A newlywed couple's honeymoon is upended by th...</td>\n",
       "      <td>0.642552</td>\n",
       "      <td>[]</td>\n",
       "      <td>[]</td>\n",
       "      <td>2011-12-26</td>\n",
       "      <td>0</td>\n",
       "      <td>85.0</td>\n",
       "      <td>[]</td>\n",
       "      <td>Released</td>\n",
       "      <td>A newlywed couple's honeymoon is upended by th...</td>\n",
       "      <td>Newlyweds</td>\n",
       "      <td>5.9</td>\n",
       "      <td>5</td>\n",
       "    </tr>\n",
       "    <tr>\n",
       "      <th>4800</th>\n",
       "      <td>0</td>\n",
       "      <td>[{\"id\": 35, \"name\": \"Comedy\"}, {\"id\": 18, \"nam...</td>\n",
       "      <td>http://www.hallmarkchannel.com/signedsealeddel...</td>\n",
       "      <td>231617</td>\n",
       "      <td>[{\"id\": 248, \"name\": \"date\"}, {\"id\": 699, \"nam...</td>\n",
       "      <td>en</td>\n",
       "      <td>Signed, Sealed, Delivered</td>\n",
       "      <td>\"Signed, Sealed, Delivered\" introduces a dedic...</td>\n",
       "      <td>1.444476</td>\n",
       "      <td>[{\"name\": \"Front Street Pictures\", \"id\": 3958}...</td>\n",
       "      <td>[{\"iso_3166_1\": \"US\", \"name\": \"United States o...</td>\n",
       "      <td>2013-10-13</td>\n",
       "      <td>0</td>\n",
       "      <td>120.0</td>\n",
       "      <td>[{\"iso_639_1\": \"en\", \"name\": \"English\"}]</td>\n",
       "      <td>Released</td>\n",
       "      <td>NaN</td>\n",
       "      <td>Signed, Sealed, Delivered</td>\n",
       "      <td>7.0</td>\n",
       "      <td>6</td>\n",
       "    </tr>\n",
       "    <tr>\n",
       "      <th>4801</th>\n",
       "      <td>0</td>\n",
       "      <td>[]</td>\n",
       "      <td>http://shanghaicalling.com/</td>\n",
       "      <td>126186</td>\n",
       "      <td>[]</td>\n",
       "      <td>en</td>\n",
       "      <td>Shanghai Calling</td>\n",
       "      <td>When ambitious New York attorney Sam is sent t...</td>\n",
       "      <td>0.857008</td>\n",
       "      <td>[]</td>\n",
       "      <td>[{\"iso_3166_1\": \"US\", \"name\": \"United States o...</td>\n",
       "      <td>2012-05-03</td>\n",
       "      <td>0</td>\n",
       "      <td>98.0</td>\n",
       "      <td>[{\"iso_639_1\": \"en\", \"name\": \"English\"}]</td>\n",
       "      <td>Released</td>\n",
       "      <td>A New Yorker in Shanghai</td>\n",
       "      <td>Shanghai Calling</td>\n",
       "      <td>5.7</td>\n",
       "      <td>7</td>\n",
       "    </tr>\n",
       "    <tr>\n",
       "      <th>4802</th>\n",
       "      <td>0</td>\n",
       "      <td>[{\"id\": 99, \"name\": \"Documentary\"}]</td>\n",
       "      <td>NaN</td>\n",
       "      <td>25975</td>\n",
       "      <td>[{\"id\": 1523, \"name\": \"obsession\"}, {\"id\": 224...</td>\n",
       "      <td>en</td>\n",
       "      <td>My Date with Drew</td>\n",
       "      <td>Ever since the second grade when he first saw ...</td>\n",
       "      <td>1.929883</td>\n",
       "      <td>[{\"name\": \"rusty bear entertainment\", \"id\": 87...</td>\n",
       "      <td>[{\"iso_3166_1\": \"US\", \"name\": \"United States o...</td>\n",
       "      <td>2005-08-05</td>\n",
       "      <td>0</td>\n",
       "      <td>90.0</td>\n",
       "      <td>[{\"iso_639_1\": \"en\", \"name\": \"English\"}]</td>\n",
       "      <td>Released</td>\n",
       "      <td>NaN</td>\n",
       "      <td>My Date with Drew</td>\n",
       "      <td>6.3</td>\n",
       "      <td>16</td>\n",
       "    </tr>\n",
       "  </tbody>\n",
       "</table>\n",
       "<p>4803 rows × 20 columns</p>\n",
       "</div>"
      ],
      "text/plain": [
       "         budget                                             genres  \\\n",
       "0     237000000  [{\"id\": 28, \"name\": \"Action\"}, {\"id\": 12, \"nam...   \n",
       "1     300000000  [{\"id\": 12, \"name\": \"Adventure\"}, {\"id\": 14, \"...   \n",
       "2     245000000  [{\"id\": 28, \"name\": \"Action\"}, {\"id\": 12, \"nam...   \n",
       "3     250000000  [{\"id\": 28, \"name\": \"Action\"}, {\"id\": 80, \"nam...   \n",
       "4     260000000  [{\"id\": 28, \"name\": \"Action\"}, {\"id\": 12, \"nam...   \n",
       "...         ...                                                ...   \n",
       "4798     220000  [{\"id\": 28, \"name\": \"Action\"}, {\"id\": 80, \"nam...   \n",
       "4799       9000  [{\"id\": 35, \"name\": \"Comedy\"}, {\"id\": 10749, \"...   \n",
       "4800          0  [{\"id\": 35, \"name\": \"Comedy\"}, {\"id\": 18, \"nam...   \n",
       "4801          0                                                 []   \n",
       "4802          0                [{\"id\": 99, \"name\": \"Documentary\"}]   \n",
       "\n",
       "                                               homepage      id  \\\n",
       "0                           http://www.avatarmovie.com/   19995   \n",
       "1          http://disney.go.com/disneypictures/pirates/     285   \n",
       "2           http://www.sonypictures.com/movies/spectre/  206647   \n",
       "3                    http://www.thedarkknightrises.com/   49026   \n",
       "4                  http://movies.disney.com/john-carter   49529   \n",
       "...                                                 ...     ...   \n",
       "4798                                                NaN    9367   \n",
       "4799                                                NaN   72766   \n",
       "4800  http://www.hallmarkchannel.com/signedsealeddel...  231617   \n",
       "4801                        http://shanghaicalling.com/  126186   \n",
       "4802                                                NaN   25975   \n",
       "\n",
       "                                               keywords original_language  \\\n",
       "0     [{\"id\": 1463, \"name\": \"culture clash\"}, {\"id\":...                en   \n",
       "1     [{\"id\": 270, \"name\": \"ocean\"}, {\"id\": 726, \"na...                en   \n",
       "2     [{\"id\": 470, \"name\": \"spy\"}, {\"id\": 818, \"name...                en   \n",
       "3     [{\"id\": 849, \"name\": \"dc comics\"}, {\"id\": 853,...                en   \n",
       "4     [{\"id\": 818, \"name\": \"based on novel\"}, {\"id\":...                en   \n",
       "...                                                 ...               ...   \n",
       "4798  [{\"id\": 5616, \"name\": \"united states\\u2013mexi...                es   \n",
       "4799                                                 []                en   \n",
       "4800  [{\"id\": 248, \"name\": \"date\"}, {\"id\": 699, \"nam...                en   \n",
       "4801                                                 []                en   \n",
       "4802  [{\"id\": 1523, \"name\": \"obsession\"}, {\"id\": 224...                en   \n",
       "\n",
       "                                original_title  \\\n",
       "0                                       Avatar   \n",
       "1     Pirates of the Caribbean: At World's End   \n",
       "2                                      Spectre   \n",
       "3                        The Dark Knight Rises   \n",
       "4                                  John Carter   \n",
       "...                                        ...   \n",
       "4798                               El Mariachi   \n",
       "4799                                 Newlyweds   \n",
       "4800                 Signed, Sealed, Delivered   \n",
       "4801                          Shanghai Calling   \n",
       "4802                         My Date with Drew   \n",
       "\n",
       "                                               overview  popularity  \\\n",
       "0     In the 22nd century, a paraplegic Marine is di...  150.437577   \n",
       "1     Captain Barbossa, long believed to be dead, ha...  139.082615   \n",
       "2     A cryptic message from Bond’s past sends him o...  107.376788   \n",
       "3     Following the death of District Attorney Harve...  112.312950   \n",
       "4     John Carter is a war-weary, former military ca...   43.926995   \n",
       "...                                                 ...         ...   \n",
       "4798  El Mariachi just wants to play his guitar and ...   14.269792   \n",
       "4799  A newlywed couple's honeymoon is upended by th...    0.642552   \n",
       "4800  \"Signed, Sealed, Delivered\" introduces a dedic...    1.444476   \n",
       "4801  When ambitious New York attorney Sam is sent t...    0.857008   \n",
       "4802  Ever since the second grade when he first saw ...    1.929883   \n",
       "\n",
       "                                   production_companies  \\\n",
       "0     [{\"name\": \"Ingenious Film Partners\", \"id\": 289...   \n",
       "1     [{\"name\": \"Walt Disney Pictures\", \"id\": 2}, {\"...   \n",
       "2     [{\"name\": \"Columbia Pictures\", \"id\": 5}, {\"nam...   \n",
       "3     [{\"name\": \"Legendary Pictures\", \"id\": 923}, {\"...   \n",
       "4           [{\"name\": \"Walt Disney Pictures\", \"id\": 2}]   \n",
       "...                                                 ...   \n",
       "4798           [{\"name\": \"Columbia Pictures\", \"id\": 5}]   \n",
       "4799                                                 []   \n",
       "4800  [{\"name\": \"Front Street Pictures\", \"id\": 3958}...   \n",
       "4801                                                 []   \n",
       "4802  [{\"name\": \"rusty bear entertainment\", \"id\": 87...   \n",
       "\n",
       "                                   production_countries release_date  \\\n",
       "0     [{\"iso_3166_1\": \"US\", \"name\": \"United States o...   2009-12-10   \n",
       "1     [{\"iso_3166_1\": \"US\", \"name\": \"United States o...   2007-05-19   \n",
       "2     [{\"iso_3166_1\": \"GB\", \"name\": \"United Kingdom\"...   2015-10-26   \n",
       "3     [{\"iso_3166_1\": \"US\", \"name\": \"United States o...   2012-07-16   \n",
       "4     [{\"iso_3166_1\": \"US\", \"name\": \"United States o...   2012-03-07   \n",
       "...                                                 ...          ...   \n",
       "4798  [{\"iso_3166_1\": \"MX\", \"name\": \"Mexico\"}, {\"iso...   1992-09-04   \n",
       "4799                                                 []   2011-12-26   \n",
       "4800  [{\"iso_3166_1\": \"US\", \"name\": \"United States o...   2013-10-13   \n",
       "4801  [{\"iso_3166_1\": \"US\", \"name\": \"United States o...   2012-05-03   \n",
       "4802  [{\"iso_3166_1\": \"US\", \"name\": \"United States o...   2005-08-05   \n",
       "\n",
       "         revenue  runtime                                   spoken_languages  \\\n",
       "0     2787965087    162.0  [{\"iso_639_1\": \"en\", \"name\": \"English\"}, {\"iso...   \n",
       "1      961000000    169.0           [{\"iso_639_1\": \"en\", \"name\": \"English\"}]   \n",
       "2      880674609    148.0  [{\"iso_639_1\": \"fr\", \"name\": \"Fran\\u00e7ais\"},...   \n",
       "3     1084939099    165.0           [{\"iso_639_1\": \"en\", \"name\": \"English\"}]   \n",
       "4      284139100    132.0           [{\"iso_639_1\": \"en\", \"name\": \"English\"}]   \n",
       "...          ...      ...                                                ...   \n",
       "4798     2040920     81.0      [{\"iso_639_1\": \"es\", \"name\": \"Espa\\u00f1ol\"}]   \n",
       "4799           0     85.0                                                 []   \n",
       "4800           0    120.0           [{\"iso_639_1\": \"en\", \"name\": \"English\"}]   \n",
       "4801           0     98.0           [{\"iso_639_1\": \"en\", \"name\": \"English\"}]   \n",
       "4802           0     90.0           [{\"iso_639_1\": \"en\", \"name\": \"English\"}]   \n",
       "\n",
       "        status                                            tagline  \\\n",
       "0     Released                        Enter the World of Pandora.   \n",
       "1     Released     At the end of the world, the adventure begins.   \n",
       "2     Released                              A Plan No One Escapes   \n",
       "3     Released                                    The Legend Ends   \n",
       "4     Released               Lost in our world, found in another.   \n",
       "...        ...                                                ...   \n",
       "4798  Released  He didn't come looking for trouble, but troubl...   \n",
       "4799  Released  A newlywed couple's honeymoon is upended by th...   \n",
       "4800  Released                                                NaN   \n",
       "4801  Released                           A New Yorker in Shanghai   \n",
       "4802  Released                                                NaN   \n",
       "\n",
       "                                         title  vote_average  vote_count  \n",
       "0                                       Avatar           7.2       11800  \n",
       "1     Pirates of the Caribbean: At World's End           6.9        4500  \n",
       "2                                      Spectre           6.3        4466  \n",
       "3                        The Dark Knight Rises           7.6        9106  \n",
       "4                                  John Carter           6.1        2124  \n",
       "...                                        ...           ...         ...  \n",
       "4798                               El Mariachi           6.6         238  \n",
       "4799                                 Newlyweds           5.9           5  \n",
       "4800                 Signed, Sealed, Delivered           7.0           6  \n",
       "4801                          Shanghai Calling           5.7           7  \n",
       "4802                         My Date with Drew           6.3          16  \n",
       "\n",
       "[4803 rows x 20 columns]"
      ]
     },
     "execution_count": 2,
     "metadata": {},
     "output_type": "execute_result"
    }
   ],
   "source": [
    "df = pd.read_csv(\"/Users/Raluca/Downloads/tmdb_5000_movies TMDL 2024.csv\")\n",
    "df"
   ]
  },
  {
   "attachments": {},
   "cell_type": "markdown",
   "id": "1915f1f7",
   "metadata": {},
   "source": [
    "View information about the dataset including datatypes and null values"
   ]
  },
  {
   "cell_type": "code",
   "execution_count": 3,
   "id": "c173d066",
   "metadata": {},
   "outputs": [
    {
     "name": "stdout",
     "output_type": "stream",
     "text": [
      "<class 'pandas.core.frame.DataFrame'>\n",
      "RangeIndex: 4803 entries, 0 to 4802\n",
      "Data columns (total 20 columns):\n",
      " #   Column                Non-Null Count  Dtype  \n",
      "---  ------                --------------  -----  \n",
      " 0   budget                4803 non-null   int64  \n",
      " 1   genres                4803 non-null   object \n",
      " 2   homepage              1712 non-null   object \n",
      " 3   id                    4803 non-null   int64  \n",
      " 4   keywords              4803 non-null   object \n",
      " 5   original_language     4803 non-null   object \n",
      " 6   original_title        4803 non-null   object \n",
      " 7   overview              4800 non-null   object \n",
      " 8   popularity            4803 non-null   float64\n",
      " 9   production_companies  4803 non-null   object \n",
      " 10  production_countries  4803 non-null   object \n",
      " 11  release_date          4802 non-null   object \n",
      " 12  revenue               4803 non-null   int64  \n",
      " 13  runtime               4801 non-null   float64\n",
      " 14  spoken_languages      4803 non-null   object \n",
      " 15  status                4803 non-null   object \n",
      " 16  tagline               3959 non-null   object \n",
      " 17  title                 4803 non-null   object \n",
      " 18  vote_average          4803 non-null   float64\n",
      " 19  vote_count            4803 non-null   int64  \n",
      "dtypes: float64(3), int64(4), object(13)\n",
      "memory usage: 750.6+ KB\n"
     ]
    }
   ],
   "source": [
    "df.info()"
   ]
  },
  {
   "attachments": {},
   "cell_type": "markdown",
   "id": "4e64a24f",
   "metadata": {},
   "source": [
    "**Q.1.1.2** What columns have null values above? How would you be able to estimate the missing values?"
   ]
  },
  {
   "attachments": {},
   "cell_type": "markdown",
   "id": "2660fe51",
   "metadata": {},
   "source": [
    "*Your text answer here*"
   ]
  },
  {
   "attachments": {},
   "cell_type": "markdown",
   "id": "83863820",
   "metadata": {},
   "source": [
    "### Q1.2\n",
    "For this notebook, we're only interested in a few columns, specifically title, overview and genres. Set df to only contain those columns."
   ]
  },
  {
   "cell_type": "code",
   "execution_count": 4,
   "id": "4e3f0439",
   "metadata": {},
   "outputs": [
    {
     "name": "stdout",
     "output_type": "stream",
     "text": [
      "<class 'pandas.core.frame.DataFrame'>\n",
      "RangeIndex: 4803 entries, 0 to 4802\n",
      "Data columns (total 3 columns):\n",
      " #   Column    Non-Null Count  Dtype \n",
      "---  ------    --------------  ----- \n",
      " 0   title     4803 non-null   object\n",
      " 1   overview  4800 non-null   object\n",
      " 2   genres    4803 non-null   object\n",
      "dtypes: object(3)\n",
      "memory usage: 112.7+ KB\n"
     ]
    }
   ],
   "source": [
    "df = df[['title', 'overview', 'genres']]\n",
    "df.info() # print out df info to verify"
   ]
  },
  {
   "attachments": {},
   "cell_type": "markdown",
   "id": "b596e86b",
   "metadata": {},
   "source": [
    "### Q1.3\n",
    "We see that some movies do not have an overview. Drop them from the table and reset the index (set `drop=True`)."
   ]
  },
  {
   "cell_type": "code",
   "execution_count": 5,
   "id": "a06e4f6a",
   "metadata": {},
   "outputs": [
    {
     "name": "stdout",
     "output_type": "stream",
     "text": [
      "<class 'pandas.core.frame.DataFrame'>\n",
      "RangeIndex: 4800 entries, 0 to 4799\n",
      "Data columns (total 3 columns):\n",
      " #   Column    Non-Null Count  Dtype \n",
      "---  ------    --------------  ----- \n",
      " 0   title     4800 non-null   object\n",
      " 1   overview  4800 non-null   object\n",
      " 2   genres    4800 non-null   object\n",
      "dtypes: object(3)\n",
      "memory usage: 112.6+ KB\n"
     ]
    }
   ],
   "source": [
    "df = df.dropna().reset_index(drop=True) # drop na values\n",
    "df = df.reset_index(drop=True)# reset index\n",
    "df.info()"
   ]
  },
  {
   "attachments": {},
   "cell_type": "markdown",
   "id": "759df3a2",
   "metadata": {},
   "source": [
    "# Q2 One-hot encodings\n",
    "The following code processes the genres (which you see above are list of dictionaries) and encodes them into one-hot labels.\n",
    "\n",
    "Remember, since we cannot do maths on text strings, we must change these words to numbers. Here, we create one-hot encodings for the genres. Assume we have three genres $[G_1, G_2, G_3]$. If a movie $M_1$ is tagged with genre $G_1$, the encoding is $[1,0,0]$. If another movie $M_2$ is tagged with $G2$, the encoding becomes $[0,1,0]$. Other encodings are possible as well, but one-hot encoding quite common and useful for many other tasks. In this case, if a movie is tagged with more than one genre, we'll just take a random one and encode that into a one-hot label.\n",
    "\n",
    "### Q2.1 Processing genres\n",
    "\n",
    "Finish the following code that processes genres into one-hot encodings."
   ]
  },
  {
   "cell_type": "code",
   "execution_count": 6,
   "id": "dba05feb",
   "metadata": {},
   "outputs": [
    {
     "name": "stderr",
     "output_type": "stream",
     "text": [
      "100%|██████████| 4800/4800 [00:00<00:00, 63497.15it/s]"
     ]
    },
    {
     "name": "stdout",
     "output_type": "stream",
     "text": [
      "                                         title  \\\n",
      "0                                       Avatar   \n",
      "1     Pirates of the Caribbean: At World's End   \n",
      "2                                      Spectre   \n",
      "3                        The Dark Knight Rises   \n",
      "4                                  John Carter   \n",
      "...                                        ...   \n",
      "4795                               El Mariachi   \n",
      "4796                                 Newlyweds   \n",
      "4797                 Signed, Sealed, Delivered   \n",
      "4798                          Shanghai Calling   \n",
      "4799                         My Date with Drew   \n",
      "\n",
      "                                               overview  \\\n",
      "0     In the 22nd century, a paraplegic Marine is di...   \n",
      "1     Captain Barbossa, long believed to be dead, ha...   \n",
      "2     A cryptic message from Bond’s past sends him o...   \n",
      "3     Following the death of District Attorney Harve...   \n",
      "4     John Carter is a war-weary, former military ca...   \n",
      "...                                                 ...   \n",
      "4795  El Mariachi just wants to play his guitar and ...   \n",
      "4796  A newlywed couple's honeymoon is upended by th...   \n",
      "4797  \"Signed, Sealed, Delivered\" introduces a dedic...   \n",
      "4798  When ambitious New York attorney Sam is sent t...   \n",
      "4799  Ever since the second grade when he first saw ...   \n",
      "\n",
      "                                                 genres  proc_genres  \\\n",
      "0     [{\"id\": 28, \"name\": \"Action\"}, {\"id\": 12, \"nam...       Action   \n",
      "1     [{\"id\": 12, \"name\": \"Adventure\"}, {\"id\": 14, \"...      Fantasy   \n",
      "2     [{\"id\": 28, \"name\": \"Action\"}, {\"id\": 12, \"nam...       Action   \n",
      "3     [{\"id\": 28, \"name\": \"Action\"}, {\"id\": 80, \"nam...     Thriller   \n",
      "4     [{\"id\": 28, \"name\": \"Action\"}, {\"id\": 12, \"nam...    Adventure   \n",
      "...                                                 ...          ...   \n",
      "4795  [{\"id\": 28, \"name\": \"Action\"}, {\"id\": 80, \"nam...        Crime   \n",
      "4796  [{\"id\": 35, \"name\": \"Comedy\"}, {\"id\": 10749, \"...       Comedy   \n",
      "4797  [{\"id\": 35, \"name\": \"Comedy\"}, {\"id\": 18, \"nam...     TV Movie   \n",
      "4798                                                 []      Unknown   \n",
      "4799                [{\"id\": 99, \"name\": \"Documentary\"}]  Documentary   \n",
      "\n",
      "     one_hot_genres  \n",
      "0          Ellipsis  \n",
      "1          Ellipsis  \n",
      "2          Ellipsis  \n",
      "3          Ellipsis  \n",
      "4          Ellipsis  \n",
      "...             ...  \n",
      "4795       Ellipsis  \n",
      "4796       Ellipsis  \n",
      "4797       Ellipsis  \n",
      "4798       Ellipsis  \n",
      "4799       Ellipsis  \n",
      "\n",
      "[4800 rows x 5 columns]\n"
     ]
    },
    {
     "name": "stderr",
     "output_type": "stream",
     "text": [
      "\n"
     ]
    }
   ],
   "source": [
    "np.random.seed(0)\n",
    "\n",
    "def process_genre_string(gs):\n",
    "    \"\"\" Processes genres into a single item from a list\"\"\"\n",
    "    gs = eval(gs)\n",
    "    gs = [x['name'] for x in gs]\n",
    "    genre = \"Unknown\"\n",
    "    if gs:\n",
    "        genre = np.random.choice(gs) # choose random entry\n",
    "    return genre\n",
    "\n",
    "# TODO: Fill in\n",
    "def encode_labels(label, unique_labels):\n",
    "    \"\"\" Encodes text labels into a one-hot encoded list\n",
    "        with possibly more than one one-hot per list.\n",
    "        :param label: the label you want to one-hot encode\n",
    "        :unique_labels: the vocabulary\n",
    "    \"\"\"\n",
    "    out = np.zeros(len(unique_labels))\n",
    "    out[unique_labels.index(label)] = 1\n",
    "    return out\n",
    "\n",
    "# save genres\n",
    "processed_genres = []\n",
    "for index, row in df.iterrows():\n",
    "    processed_genres.append(process_genre_string(row['genres']))\n",
    "\n",
    "# sort and remove duplicates to get vocabulary\n",
    "unique_genres = sorted(list(set(processed_genres)))\n",
    "\n",
    "# add to dataframe as new column\n",
    "df[\"proc_genres\"] = processed_genres\n",
    "\n",
    "# one-hot encode genres\n",
    "enocded_labels = []\n",
    "for index, row in tqdm(df.iterrows(), total=len(df)):\n",
    "    enocded_labels.append(...)\n",
    "\n",
    "df[\"one_hot_genres\"] = enocded_labels\n",
    "print (df)"
   ]
  },
  {
   "attachments": {},
   "cell_type": "markdown",
   "id": "d17501a9",
   "metadata": {},
   "source": [
    "Verify that one-hot encodings are indeed as expected"
   ]
  },
  {
   "cell_type": "code",
   "execution_count": 7,
   "id": "3b64854b",
   "metadata": {},
   "outputs": [
    {
     "data": {
      "text/plain": [
       "Ellipsis"
      ]
     },
     "execution_count": 7,
     "metadata": {},
     "output_type": "execute_result"
    }
   ],
   "source": [
    "df[\"one_hot_genres\"][0]"
   ]
  },
  {
   "attachments": {},
   "cell_type": "markdown",
   "id": "b0a83ece",
   "metadata": {},
   "source": [
    "### Q2.2 Processing Overviews\n",
    "Next, we process the overviews. First, we remove all punctuation for the sake of simplicity and change each overview to use only lowercase. Then we need to see how long the overviews are in terms of numbers of words. We can do this with a histogram.\n",
    "\n",
    "**Q2.2.1** Finish the following code"
   ]
  },
  {
   "cell_type": "code",
   "execution_count": 8,
   "id": "bfd51c53",
   "metadata": {},
   "outputs": [
    {
     "data": {
      "image/png": "[encoded data removed]",
      "text/plain": [
       "<Figure size 640x480 with 1 Axes>"
      ]
     },
     "metadata": {},
     "output_type": "display_data"
    }
   ],
   "source": [
    "import re\n",
    "def remove_punctuation(text):\n",
    "    \"\"\" Only retains letters, numbers, underscores and whitespace \"\"\"\n",
    "    pattern = r'[^\\w\\s]'\n",
    "    return re.sub(pattern, '', text)\n",
    "\n",
    "processed_overviews = []\n",
    "\n",
    "# loop over df, remove punctuation, make words lowercase and add it to a new column\n",
    "for index, row in df.iterrows():\n",
    "    processed_overviews.append(remove_punctuation(row['overview']))\n",
    "df[\"proc_overview\"] = processed_overviews\n",
    "\n",
    "# get the word lengths of each overview and store it in a list \n",
    "overview_lens = []\n",
    "for index, row in df.iterrows():\n",
    "    overview_lens.append(len(row['proc_overview']))\n",
    "\n",
    "# for the sake of simplicity, add these values as a column to the df\n",
    "df[\"overview_len\"] = overview_lens\n",
    "plt.hist(overview_lens)\n",
    "plt.show()"
   ]
  },
  {
   "attachments": {},
   "cell_type": "markdown",
   "id": "58138594",
   "metadata": {},
   "source": [
    "**Q2.2.2** What is the shortest overview? What is the longest? In the next step, we need to decide on a standard length of all overviews -- this means dropping overviews less than some value, and truncating longer ones. What length would you choose to minimize the number of movies dropped and maximize the information (words) stored in the overviews?"
   ]
  },
  {
   "attachments": {},
   "cell_type": "markdown",
   "id": "3b87f1af",
   "metadata": {},
   "source": [
    "Shortest is 0. Longest is close to 1000. I would say 100, as we only need to drop about 200."
   ]
  },
  {
   "attachments": {},
   "cell_type": "markdown",
   "id": "54e6cb90",
   "metadata": {},
   "source": [
    "### Q2.2.3\n",
    "Let's choose overviews of length 15 words. What this means is we need to discard movies that have overviews less than 15 (there are other ways of dealing with it, but this should be fine for now) and truncate the higher ones to the first 15 words."
   ]
  },
  {
   "cell_type": "code",
   "execution_count": 9,
   "id": "70854211",
   "metadata": {},
   "outputs": [
    {
     "data": {
      "text/html": [
       "<div>\n",
       "<style scoped>\n",
       "    .dataframe tbody tr th:only-of-type {\n",
       "        vertical-align: middle;\n",
       "    }\n",
       "\n",
       "    .dataframe tbody tr th {\n",
       "        vertical-align: top;\n",
       "    }\n",
       "\n",
       "    .dataframe thead th {\n",
       "        text-align: right;\n",
       "    }\n",
       "</style>\n",
       "<table border=\"1\" class=\"dataframe\">\n",
       "  <thead>\n",
       "    <tr style=\"text-align: right;\">\n",
       "      <th></th>\n",
       "      <th>title</th>\n",
       "      <th>overview</th>\n",
       "      <th>genres</th>\n",
       "      <th>proc_genres</th>\n",
       "      <th>one_hot_genres</th>\n",
       "      <th>proc_overview</th>\n",
       "      <th>overview_len</th>\n",
       "    </tr>\n",
       "  </thead>\n",
       "  <tbody>\n",
       "    <tr>\n",
       "      <th>0</th>\n",
       "      <td>Avatar</td>\n",
       "      <td>In the 22nd century, a paraplegic Marine is di...</td>\n",
       "      <td>[{\"id\": 28, \"name\": \"Action\"}, {\"id\": 12, \"nam...</td>\n",
       "      <td>Action</td>\n",
       "      <td>Ellipsis</td>\n",
       "      <td>[In, the, 22nd, century, a, paraplegic, Marine...</td>\n",
       "      <td>172</td>\n",
       "    </tr>\n",
       "    <tr>\n",
       "      <th>1</th>\n",
       "      <td>Pirates of the Caribbean: At World's End</td>\n",
       "      <td>Captain Barbossa, long believed to be dead, ha...</td>\n",
       "      <td>[{\"id\": 12, \"name\": \"Adventure\"}, {\"id\": 14, \"...</td>\n",
       "      <td>Fantasy</td>\n",
       "      <td>Ellipsis</td>\n",
       "      <td>[Captain, Barbossa, long, believed, to, be, de...</td>\n",
       "      <td>172</td>\n",
       "    </tr>\n",
       "    <tr>\n",
       "      <th>2</th>\n",
       "      <td>Spectre</td>\n",
       "      <td>A cryptic message from Bond’s past sends him o...</td>\n",
       "      <td>[{\"id\": 28, \"name\": \"Action\"}, {\"id\": 12, \"nam...</td>\n",
       "      <td>Action</td>\n",
       "      <td>Ellipsis</td>\n",
       "      <td>[A, cryptic, message, from, Bonds, past, sends...</td>\n",
       "      <td>236</td>\n",
       "    </tr>\n",
       "    <tr>\n",
       "      <th>3</th>\n",
       "      <td>The Dark Knight Rises</td>\n",
       "      <td>Following the death of District Attorney Harve...</td>\n",
       "      <td>[{\"id\": 28, \"name\": \"Action\"}, {\"id\": 80, \"nam...</td>\n",
       "      <td>Thriller</td>\n",
       "      <td>Ellipsis</td>\n",
       "      <td>[Following, the, death, of, District, Attorney...</td>\n",
       "      <td>419</td>\n",
       "    </tr>\n",
       "    <tr>\n",
       "      <th>4</th>\n",
       "      <td>John Carter</td>\n",
       "      <td>John Carter is a war-weary, former military ca...</td>\n",
       "      <td>[{\"id\": 28, \"name\": \"Action\"}, {\"id\": 12, \"nam...</td>\n",
       "      <td>Adventure</td>\n",
       "      <td>Ellipsis</td>\n",
       "      <td>[John, Carter, is, a, warweary, former, milita...</td>\n",
       "      <td>333</td>\n",
       "    </tr>\n",
       "    <tr>\n",
       "      <th>...</th>\n",
       "      <td>...</td>\n",
       "      <td>...</td>\n",
       "      <td>...</td>\n",
       "      <td>...</td>\n",
       "      <td>...</td>\n",
       "      <td>...</td>\n",
       "      <td>...</td>\n",
       "    </tr>\n",
       "    <tr>\n",
       "      <th>4795</th>\n",
       "      <td>El Mariachi</td>\n",
       "      <td>El Mariachi just wants to play his guitar and ...</td>\n",
       "      <td>[{\"id\": 28, \"name\": \"Action\"}, {\"id\": 80, \"nam...</td>\n",
       "      <td>Crime</td>\n",
       "      <td>Ellipsis</td>\n",
       "      <td>[El, Mariachi, just, wants, to, play, his, gui...</td>\n",
       "      <td>329</td>\n",
       "    </tr>\n",
       "    <tr>\n",
       "      <th>4796</th>\n",
       "      <td>Newlyweds</td>\n",
       "      <td>A newlywed couple's honeymoon is upended by th...</td>\n",
       "      <td>[{\"id\": 35, \"name\": \"Comedy\"}, {\"id\": 10749, \"...</td>\n",
       "      <td>Comedy</td>\n",
       "      <td>Ellipsis</td>\n",
       "      <td>[A, newlywed, couples, honeymoon, is, upended,...</td>\n",
       "      <td>83</td>\n",
       "    </tr>\n",
       "    <tr>\n",
       "      <th>4797</th>\n",
       "      <td>Signed, Sealed, Delivered</td>\n",
       "      <td>\"Signed, Sealed, Delivered\" introduces a dedic...</td>\n",
       "      <td>[{\"id\": 35, \"name\": \"Comedy\"}, {\"id\": 18, \"nam...</td>\n",
       "      <td>TV Movie</td>\n",
       "      <td>Ellipsis</td>\n",
       "      <td>[Signed, Sealed, Delivered, introduces, a, ded...</td>\n",
       "      <td>461</td>\n",
       "    </tr>\n",
       "    <tr>\n",
       "      <th>4798</th>\n",
       "      <td>Shanghai Calling</td>\n",
       "      <td>When ambitious New York attorney Sam is sent t...</td>\n",
       "      <td>[]</td>\n",
       "      <td>Unknown</td>\n",
       "      <td>Ellipsis</td>\n",
       "      <td>[When, ambitious, New, York, attorney, Sam, is...</td>\n",
       "      <td>398</td>\n",
       "    </tr>\n",
       "    <tr>\n",
       "      <th>4799</th>\n",
       "      <td>My Date with Drew</td>\n",
       "      <td>Ever since the second grade when he first saw ...</td>\n",
       "      <td>[{\"id\": 99, \"name\": \"Documentary\"}]</td>\n",
       "      <td>Documentary</td>\n",
       "      <td>Ellipsis</td>\n",
       "      <td>[Ever, since, the, second, grade, when, he, fi...</td>\n",
       "      <td>348</td>\n",
       "    </tr>\n",
       "  </tbody>\n",
       "</table>\n",
       "<p>4799 rows × 7 columns</p>\n",
       "</div>"
      ],
      "text/plain": [
       "                                         title  \\\n",
       "0                                       Avatar   \n",
       "1     Pirates of the Caribbean: At World's End   \n",
       "2                                      Spectre   \n",
       "3                        The Dark Knight Rises   \n",
       "4                                  John Carter   \n",
       "...                                        ...   \n",
       "4795                               El Mariachi   \n",
       "4796                                 Newlyweds   \n",
       "4797                 Signed, Sealed, Delivered   \n",
       "4798                          Shanghai Calling   \n",
       "4799                         My Date with Drew   \n",
       "\n",
       "                                               overview  \\\n",
       "0     In the 22nd century, a paraplegic Marine is di...   \n",
       "1     Captain Barbossa, long believed to be dead, ha...   \n",
       "2     A cryptic message from Bond’s past sends him o...   \n",
       "3     Following the death of District Attorney Harve...   \n",
       "4     John Carter is a war-weary, former military ca...   \n",
       "...                                                 ...   \n",
       "4795  El Mariachi just wants to play his guitar and ...   \n",
       "4796  A newlywed couple's honeymoon is upended by th...   \n",
       "4797  \"Signed, Sealed, Delivered\" introduces a dedic...   \n",
       "4798  When ambitious New York attorney Sam is sent t...   \n",
       "4799  Ever since the second grade when he first saw ...   \n",
       "\n",
       "                                                 genres  proc_genres  \\\n",
       "0     [{\"id\": 28, \"name\": \"Action\"}, {\"id\": 12, \"nam...       Action   \n",
       "1     [{\"id\": 12, \"name\": \"Adventure\"}, {\"id\": 14, \"...      Fantasy   \n",
       "2     [{\"id\": 28, \"name\": \"Action\"}, {\"id\": 12, \"nam...       Action   \n",
       "3     [{\"id\": 28, \"name\": \"Action\"}, {\"id\": 80, \"nam...     Thriller   \n",
       "4     [{\"id\": 28, \"name\": \"Action\"}, {\"id\": 12, \"nam...    Adventure   \n",
       "...                                                 ...          ...   \n",
       "4795  [{\"id\": 28, \"name\": \"Action\"}, {\"id\": 80, \"nam...        Crime   \n",
       "4796  [{\"id\": 35, \"name\": \"Comedy\"}, {\"id\": 10749, \"...       Comedy   \n",
       "4797  [{\"id\": 35, \"name\": \"Comedy\"}, {\"id\": 18, \"nam...     TV Movie   \n",
       "4798                                                 []      Unknown   \n",
       "4799                [{\"id\": 99, \"name\": \"Documentary\"}]  Documentary   \n",
       "\n",
       "     one_hot_genres                                      proc_overview  \\\n",
       "0          Ellipsis  [In, the, 22nd, century, a, paraplegic, Marine...   \n",
       "1          Ellipsis  [Captain, Barbossa, long, believed, to, be, de...   \n",
       "2          Ellipsis  [A, cryptic, message, from, Bonds, past, sends...   \n",
       "3          Ellipsis  [Following, the, death, of, District, Attorney...   \n",
       "4          Ellipsis  [John, Carter, is, a, warweary, former, milita...   \n",
       "...             ...                                                ...   \n",
       "4795       Ellipsis  [El, Mariachi, just, wants, to, play, his, gui...   \n",
       "4796       Ellipsis  [A, newlywed, couples, honeymoon, is, upended,...   \n",
       "4797       Ellipsis  [Signed, Sealed, Delivered, introduces, a, ded...   \n",
       "4798       Ellipsis  [When, ambitious, New, York, attorney, Sam, is...   \n",
       "4799       Ellipsis  [Ever, since, the, second, grade, when, he, fi...   \n",
       "\n",
       "      overview_len  \n",
       "0              172  \n",
       "1              172  \n",
       "2              236  \n",
       "3              419  \n",
       "4              333  \n",
       "...            ...  \n",
       "4795           329  \n",
       "4796            83  \n",
       "4797           461  \n",
       "4798           398  \n",
       "4799           348  \n",
       "\n",
       "[4799 rows x 7 columns]"
      ]
     },
     "execution_count": 9,
     "metadata": {},
     "output_type": "execute_result"
    }
   ],
   "source": [
    "token_len = 15 # number of words\n",
    "# only select rows where overview len is more than or equal to token_len\n",
    "df = df[df['overview_len'] >= token_len]\n",
    "\n",
    "# split each proc_overview into a list of words, select the first token_len words, \n",
    "# and add the list of words back into df[\"proc_overview\"]\n",
    "df[\"proc_overview\"] = df['proc_overview'].str.split().apply(lambda x: x[:token_len])\n",
    "\n",
    "\n",
    "# print to verify\n",
    "df"
   ]
  },
  {
   "attachments": {},
   "cell_type": "markdown",
   "id": "26e092dd",
   "metadata": {},
   "source": [
    "### Q2.2.3 Finding the vocabulary length\n",
    "\n",
    "In order to one-hot encode words, we need to find how many words there are in total, just like in the case of genres. Get all the words, remove duplicates, and sort. Find and print the length of your vocabulary."
   ]
  },
  {
   "cell_type": "code",
   "execution_count": 10,
   "id": "a71a750b",
   "metadata": {},
   "outputs": [
    {
     "name": "stdout",
     "output_type": "stream",
     "text": [
      "13917\n"
     ]
    }
   ],
   "source": [
    "# hint: store all words for all movies in a set, change it to a list and sort\n",
    "\n",
    "wordlist = []\n",
    "\n",
    "for row in df['proc_overview']:\n",
    "    words = row\n",
    "    wordlist.extend(words)\n",
    "\n",
    "unique_words = sorted(list(set(wordlist)))\n",
    "\n",
    "vocab_len = len(unique_words)\n",
    "print(vocab_len)"
   ]
  },
  {
   "attachments": {},
   "cell_type": "markdown",
   "id": "f276b825",
   "metadata": {},
   "source": [
    "### Q2.2.4 Encoding the labels\n",
    "\n",
    "In the case of genres, we one-hot encoded the outputs by taking a single random genre. However, an alternative method is to add up the one-hot encodings to form some kind of histogram. For example, if we have an overview \"a brown dog\", and our vocab is \\[a brown, big, cabbage, dog, goat, cow, turkey\\], the one-hot vector would be \\[1,1,0,0,1,0,0,0\\]. If our overview is \"a big brown dog\", the one-hot vector would be \\[1,1,1,0,1,0,0,0\\]. If our overview is \"a big big brown dog\", the one-hot vector would be \\[1,1,2,0,1,0,0,0\\]. You can use the `encode_labels` function that you defined earlier."
   ]
  },
  {
   "cell_type": "code",
   "execution_count": 11,
   "id": "d212192f",
   "metadata": {},
   "outputs": [
    {
     "name": "stderr",
     "output_type": "stream",
     "text": [
      "100%|██████████| 4799/4799 [00:06<00:00, 774.54it/s]\n"
     ]
    },
    {
     "data": {
      "text/plain": [
       "0       [0.0, 0.0, 0.0, 0.0, 0.0, 0.0, 0.0, 0.0, 0.0, ...\n",
       "1       [0.0, 0.0, 0.0, 0.0, 0.0, 0.0, 0.0, 0.0, 0.0, ...\n",
       "2       [0.0, 0.0, 0.0, 0.0, 0.0, 0.0, 0.0, 0.0, 0.0, ...\n",
       "3       [0.0, 0.0, 0.0, 0.0, 0.0, 0.0, 0.0, 0.0, 0.0, ...\n",
       "4       [0.0, 0.0, 0.0, 0.0, 0.0, 0.0, 0.0, 0.0, 0.0, ...\n",
       "                              ...                        \n",
       "4795    [0.0, 0.0, 0.0, 0.0, 0.0, 0.0, 0.0, 0.0, 0.0, ...\n",
       "4796    [0.0, 0.0, 0.0, 0.0, 0.0, 0.0, 0.0, 0.0, 0.0, ...\n",
       "4797    [0.0, 0.0, 0.0, 0.0, 0.0, 0.0, 0.0, 0.0, 0.0, ...\n",
       "4798    [0.0, 0.0, 0.0, 0.0, 0.0, 0.0, 0.0, 0.0, 0.0, ...\n",
       "4799    [0.0, 0.0, 0.0, 0.0, 0.0, 0.0, 0.0, 0.0, 0.0, ...\n",
       "Name: one_hot_overview, Length: 4799, dtype: object"
      ]
     },
     "execution_count": 11,
     "metadata": {},
     "output_type": "execute_result"
    }
   ],
   "source": [
    "# this code is just a hint, if you want you can do it as you please\n",
    "# as long as the output remains the same\n",
    "encoded_labels = []\n",
    "for index, row in tqdm(df.iterrows(), total=len(df)):\n",
    "    sentence_encode = np.zeros(len(unique_words))  # Initialize the encoding for this overview\n",
    "\n",
    "    for word in row[\"proc_overview\"]:\n",
    "        word_encode = encode_labels(word, unique_words)  # Get the encoding for this word\n",
    "        sentence_encode += word_encode  # Add the encoding to the sentence encoding\n",
    "\n",
    "    encoded_labels.append(sentence_encode)\n",
    "\n",
    "df[\"one_hot_overview\"] = encoded_labels\n",
    "df['one_hot_overview'] # print to verify"
   ]
  },
  {
   "attachments": {},
   "cell_type": "markdown",
   "id": "7c62e127",
   "metadata": {},
   "source": [
    "**Q2.2.5** Each vector is a vector of floating point (64-bit) numbers. Assuming each float takes up exactly 16-bytes, how many bytes does this take to store (theoretically)?"
   ]
  },
  {
   "attachments": {},
   "cell_type": "markdown",
   "id": "193b8235",
   "metadata": {},
   "source": [
    "64 * 16 * 4799 = 4,893,696"
   ]
  },
  {
   "attachments": {},
   "cell_type": "markdown",
   "id": "1f3b3700",
   "metadata": {},
   "source": [
    "# Q3 Principal Component Analysis\n",
    "\n",
    "**Q3.1** Using the overview encoded into one-hot encodings, perform PCA and plot this into a 2-D image as a scatter plot."
   ]
  },
  {
   "cell_type": "code",
   "execution_count": 13,
   "id": "832f2be7",
   "metadata": {},
   "outputs": [
    {
     "name": "stdout",
     "output_type": "stream",
     "text": [
      "(4799,)\n"
     ]
    },
    {
     "name": "stderr",
     "output_type": "stream",
     "text": [
      "/var/folders/cz/c3t2lk310xld99xf7rbz19940000gp/T/ipykernel_17021/976909091.py:15: UserWarning: No data for colormapping provided via 'c'. Parameters 'cmap' will be ignored\n",
      "  plt.scatter(x_train_pca[:, 0], x_train_pca[:, 1], cmap='tab10', alpha=0.6, s=1)\n"
     ]
    },
    {
     "data": {
      "image/png": "[encoded data removed]",
      "text/plain": [
       "<Figure size 800x600 with 2 Axes>"
      ]
     },
     "metadata": {},
     "output_type": "display_data"
    }
   ],
   "source": [
    "# import PCA decomposition class from sklearn\n",
    "from sklearn.decomposition import PCA\n",
    "\n",
    "# we did exactly this in the lecture notebook\n",
    "\n",
    "\n",
    "x_train = np.array(df['one_hot_overview'])\n",
    "print(x_train.shape)\n",
    "x_train_reshaped = [vector.reshape(-1,) for vector in x_train]\n",
    "pca = PCA(n_components=2)  \n",
    "x_train_pca = pca.fit(x_train_reshaped)\n",
    "x_train_pca = pca.fit_transform(x_train_reshaped)\n",
    "\n",
    "plt.figure(figsize=(8, 6))\n",
    "plt.scatter(x_train_pca[:, 0], x_train_pca[:, 1], cmap='tab10', alpha=0.6, s=1)\n",
    "plt.colorbar()\n",
    "plt.title('One hot overview')\n",
    "plt.xlabel('Principal Component 1')\n",
    "plt.ylabel('Principal Component 2')\n",
    "plt.show()"
   ]
  },
  {
   "attachments": {},
   "cell_type": "markdown",
   "id": "a63054b6",
   "metadata": {},
   "source": [
    "**Q3.2** Do you see any interpretable structure in the above plot (\"interpretable\" $\\rightarrow$ the patterns are explainable)."
   ]
  },
  {
   "attachments": {},
   "cell_type": "markdown",
   "id": "a9409e7b",
   "metadata": {},
   "source": [
    "Yes, there tends to be groups with an upwards slope"
   ]
  },
  {
   "attachments": {},
   "cell_type": "markdown",
   "id": "4482c5e5",
   "metadata": {},
   "source": [
    "**Q3.3** Quantify how much variance information a 2D PCA projection loses for this dataset."
   ]
  },
  {
   "attachments": {},
   "cell_type": "markdown",
   "id": "2338a25d",
   "metadata": {},
   "source": [
    "90% of the variance "
   ]
  },
  {
   "cell_type": "code",
   "execution_count": 14,
   "id": "dd3d16a0",
   "metadata": {},
   "outputs": [
    {
     "name": "stdout",
     "output_type": "stream",
     "text": [
      "Variance Lost: 90.61%\n"
     ]
    }
   ],
   "source": [
    "explained_variance_ratio = pca.explained_variance_ratio_\n",
    "variance_lost = 1 - sum(explained_variance_ratio)\n",
    "print(\"Variance Lost: {:.2%}\".format(variance_lost))"
   ]
  },
  {
   "attachments": {},
   "cell_type": "markdown",
   "id": "7da99ba5",
   "metadata": {},
   "source": [
    "**Q3.4** Plot a line graph where the y-axis is cumulative explained variance ratio and the x-axis is the number of PCA components."
   ]
  },
  {
   "cell_type": "code",
   "execution_count": 15,
   "id": "e0cac8ff",
   "metadata": {
    "scrolled": false
   },
   "outputs": [
    {
     "name": "stdout",
     "output_type": "stream",
     "text": [
      "[0.05658221 0.03735971 0.02330127 0.02064583 0.01869927 0.01748225\n",
      " 0.01501631 0.01368102 0.01173523 0.00874707]\n"
     ]
    },
    {
     "data": {
      "image/png": "[encoded data removed]",
      "text/plain": [
       "<Figure size 640x480 with 1 Axes>"
      ]
     },
     "metadata": {},
     "output_type": "display_data"
    }
   ],
   "source": [
    "# Set up PCA object with the desired number of components\n",
    "pca = PCA(n_components=10)\n",
    "x_train_pca = pca.fit(x_train_reshaped)\n",
    "\n",
    "\n",
    "# fit transform one_hot_overview encodings\n",
    "labels_pca = pca.fit_transform(x_train_reshaped)\n",
    "# get explained variance ratio from object, store it in a list\n",
    "variance_list = pca.explained_variance_ratio_\n",
    "print(variance_list)\n",
    "\n",
    "plt.plot(variance_list)\n",
    "# set up y label, x label, title \n",
    "plt.ylabel('Explained variance')\n",
    "plt.xlabel('Number of components')\n",
    "plt.title('Explained variances vs N of components')\n",
    "plt.show()"
   ]
  },
  {
   "attachments": {},
   "cell_type": "markdown",
   "id": "8b36c9b2",
   "metadata": {},
   "source": [
    "**Q3.5** How many principal components do you need in order to explain 80% of the total variance in the data?\n",
    "\n",
    "Note: don't just estimate it by eye, write some code to compute it for you."
   ]
  },
  {
   "cell_type": "code",
   "execution_count": 16,
   "id": "95c44b2d",
   "metadata": {},
   "outputs": [
    {
     "name": "stdout",
     "output_type": "stream",
     "text": [
      "(4799,)\n",
      "Number of components needed to explain 80% of the variance: 1355\n"
     ]
    }
   ],
   "source": [
    "from sklearn.decomposition import PCA\n",
    "\n",
    "x_train = np.array(df['one_hot_overview'])\n",
    "print(x_train.shape)\n",
    "x_train_reshaped = [vector.reshape(-1,) for vector in x_train]\n",
    "pca = PCA()  \n",
    "x_train_pca = pca.fit_transform(x_train_reshaped)\n",
    "\n",
    "explained_variance_ratio = pca.explained_variance_ratio_\n",
    "cumulative_variance_ratio = np.cumsum(explained_variance_ratio)\n",
    "\n",
    "# Find the number of components needed to explain 80% of the total variance\n",
    "num_components = np.argmax(cumulative_variance_ratio >= 0.8) + 1\n",
    "\n",
    "print(\"Number of components needed to explain 80% of the variance:\", num_components)"
   ]
  },
  {
   "attachments": {},
   "cell_type": "markdown",
   "id": "b608db91",
   "metadata": {},
   "source": [
    "1355, took a while to run "
   ]
  },
  {
   "attachments": {},
   "cell_type": "markdown",
   "id": "ee3b5c33",
   "metadata": {},
   "source": [
    "**Q3.6** Using the number of dimensions you found in Q3.5, fit and transform your overview encodings using PCA and add it to a new column called `overview_pca` in the dataframe."
   ]
  },
  {
   "cell_type": "code",
   "execution_count": 17,
   "id": "8a6eb40b",
   "metadata": {},
   "outputs": [
    {
     "name": "stdout",
     "output_type": "stream",
     "text": [
      "[0.12527627702612518, 1.3130672688252885, 1.321024977995352, 0.8991166078637907, 0.6967619437407501, -0.6143728752226074, 0.15983339023571247, 0.24983392410689922, 0.1301950742219076, -0.29784516494419966, 0.04937194985535824, 0.2781877328272643, 0.6739940717018357, -0.14658199406455122, 0.01696757688895795, 0.18790166189603139, -0.10538180867426922, -0.1319161225252124, -0.2645740593082354, 0.5793631120469365, -0.15784787557309551, 0.02233688325336459, -0.23861221855461337, -0.19644192832001692, -0.1922038630156543, 0.13235410543981388, -0.3265318026175036, -0.155569054872673, 0.12035829724328385, 0.017258120430162567, 0.1044514183290458, 0.11842385978643873, -0.1389337244517759, 0.005375942661959526, 0.027001219941769173, -0.08000414700857399, -0.07367590723465173, 0.04304384059869518, 0.05660150218805104, -0.014591732258896947, 0.017224999339529205, 0.042253818194999446, -0.07035225454165317, -0.033315019006650626, 0.03875477286468437, -0.014287000013856131, 0.035286530443911585, 0.02854474608130158, -0.08774470178472438, -0.02715660948901779, -0.0009482835719031906, -0.014644124077871037, 0.03427328488606997, 0.042406009076603156, -0.010097393675445187, 0.062322455933612325, -0.003900082447987245, 0.022660667038983933, -0.08214285173262706, -0.0405185489565811, 0.013064977603682923, 0.02334485939986064, 0.006830430816925511, -0.06632764958925615, -0.10317124800440436, -0.005366255737225976, -0.06115283734790187, -0.07010589163894058, 0.016898670415443746, 0.04403276527897792, -0.002399482586481584, 0.001476108894260729, -0.02410397519072476, 0.05851956628553264, 0.051286428818940404, -0.042334394873675955, 0.01993957977669877, 0.04473894516855874, -0.05151767396417514, 0.0011370881183598452, -0.0055202775946014745, 0.03474377773505668, -0.09481167917724445, 0.03727821640243617, 0.013176133556194077, -0.033443470460106504, 0.014049661452183634, -0.08521488491211682, 0.02438853936602744, 0.017809154876570976, -0.06826367904499607, 0.007647003324638078, 0.04868360973629936, -0.020289063580794527, -0.045291761533009255, 0.08269958529527562, -0.021159014788817983, 0.0454984295112808, -0.041881790033437616, 0.07011726468290534, -0.016655592516686853, -0.01827976516667374, -0.003016102505333254, -0.05570098694290559, -0.006078436597495001, -0.009465666770385527, -0.07944435574767157, 0.0409479008470471, -0.0007803091855911892, 0.03509081415798783, 0.005534552294145827, -0.01085690658853793, -0.14699805800772398, -0.055570033849009645, -0.00946861206836177, 0.06711447687133261, 0.0217139041062742, 0.06412170813426539, 0.016707711373770324, 0.08678849373479941, -0.046527854778270844, 0.03218973884329267, -0.11327242106672131, 0.018548708933601662, 0.0734435852328756, 0.04983437926325723, -0.06975985355723714, -0.10330463955776292, -0.09690762526320532, -0.016438264737462693, -0.020287247539307947, -0.03915028300922449, 0.07082223207317331, -0.016185428257601036, 0.11185999786396872, -0.16055964395809197, -0.1064000610104108, -0.12457346823619053, 0.057276960672578286, -0.025907973836029594, -0.16798335919843813, 0.08430568454931169, -0.07306747769753565, 0.2878560622673295, -0.11994349668773159, -0.008698141209409902, 0.1621403277769397, -0.10118773431180689, -0.21966549766529553, -0.09116459340921002, 0.005690266669620859, 0.09639848947459327, 0.24996209597193886, 0.2154053611321541, 0.13484980862843557, -0.04915226393036378, 0.0590712817003244, -0.1718593193722397, 0.10614887757362022, -0.05764245104475701, -0.16638798586289405, 0.12415297820974701, -0.09678340641013901, 0.04909032716740602, 0.013203857313245075, 0.21745963505146157, 0.053539840626900516, -0.13042544746950752, -0.11178493631333364, -0.030851227709246573, -0.02985111543591858, -0.025037740334235357, 0.06867823590064442, 0.050104406909774545, -0.038233497083612025, 0.09456951805511819, 0.07765919658329305, 0.029123972310584004, -0.013053432723226836, 0.012463749708575536, 0.043752364298038075, 0.0035465051595324096, 0.07931275244933295, 0.033776654492183894, -0.05511023925558411, -0.027957338757814598, 0.010759803996671246, 0.007939485303199859, -0.02168109920025489, 0.06282105223496248, 0.0863529969528295, 0.01317396590502106, -0.11308035367334592, 0.02500206215594996, 0.008000702364273622, -0.00778648011086616, -0.00374812206995438, 0.09290119067479387, -0.05166042537906944, 0.026971874515669035, -0.012107573549552563, 0.0040436780139643845, 0.032194152041026866, -0.04323585875577639, 0.03332517753332792, 0.09932625485664719, -0.04704870558283084, 0.017819070600502595, 0.038695670336509606, 0.08324102382423143, 0.027400838339107475, 0.06521993451717019, 0.014765851910839914, -0.018448488637758467, 0.03703705682646309, -0.0065793964268679415, 0.0888511488629307, -0.053524757909101106, -0.06798570753472515, 0.03295532466692371, -0.003951559100699389, -0.05381027966206748, -0.016908934267660884, -0.07950759815786544, 0.04917788779103031, -0.03313696623759773, 0.008851082810733312, -0.02962660928497419, -0.029596530429259162, 0.09753538811505463, 0.010265465347282322, -0.059874510607709326, 0.01817631636238073, 0.04336615348744646, 0.01563315297380443, 0.01432340500910426, 0.05042311304726366, -0.023864640018573795, -0.04953102874374153, 0.005381859360513566, -0.01772738105347751, 0.02796088458405203, 0.030238639201178117, 0.02501260530740863, 0.03932428705317106, 0.030019433962735532, 0.0020073985721657953, 0.01669645639727472, 0.04315071621269849, -0.023336127517311595, -0.06911769893661869, 0.07550722062583827, -0.031837045211417225, 0.011330832542581118, -0.015285386054125329, -0.03374579363843781, -0.013961022502945298, 0.07131485904573048, 0.02939544903762056, 0.02118001904104477, -0.042955962820146125, -0.01720750577630451, -0.003975944805026522, -0.05128972138489873, 0.00124871993590355, -0.01200898767950836, -0.016152612792089814, -0.010151267883995205, 0.06238572860019321, 0.07252583390737952, -0.0587208298498747, -0.02050129654434657, 0.03948042593312686, 0.017879665121885237, 0.026168084370431673, -0.02495732387993706, -0.03451095276316595, -0.03133243413002776, 0.04320112546812907, -0.043444283591750725, 0.013414918427246555, 0.027018604541889205, -0.025653596919512408, -0.033140976344661725, -0.023510065843837746, 0.01844622342009453, 0.046781299457182283, 0.04774584854865149, 0.02100467335080182, -0.011431885956287339, 0.02011680268799154, 0.02558118385119821, 0.009860882219143843, -0.006473973596334739, -0.007722688410421414, -0.021660757331975602, 0.02158275092511459, 0.002782520318945257, -0.009949237263083235, 0.01155463692219846, -0.0136915522480901, 0.04052482127401035, -0.0033346666709685884, 0.0006072596905781314, 0.02879337536230643, 0.03142212074197154, 0.0014338918894232192, 0.025309506034211757, -0.024525694975485197, 0.03047158378549808, -0.035996901957551765, 0.046327454167915304, 0.05156013847453768, -0.027686450790098925, 0.03716656931661017, 0.02362724092933323, 0.09222819140601318, 0.007793366160706111, 0.03781353475085391, -0.027867741584753247, -0.06616123297388289, 0.00046409572890930795, -0.009463143954042873, -0.010075678191091878, 0.0060274063982099875, 0.004110503944273103, -0.00767847904655979, -0.016589469786121375, 0.045182264152601334, 0.017734492415135708, 0.002946201308580421, 0.04353013042253934, 0.008248199190400578, -0.009632093080102105, 0.00218635949771367, -0.04741267816846013, -0.005572124512561844, 0.010735330673937029, -0.02780029302481486, 2.939174813268978e-06, 0.009427504108551202, -0.030757846942284173, 0.0016220680983634697, 0.00233961869743883, 0.007378125512130302, -0.0037845935281444754, 0.04419631405892631, 0.03162794867361034, 0.023036493636879218, 0.024663262369038468, 0.009705739583306127, 0.03545752479313722, 0.08857411031816799, -0.02478442067543957, -0.026899057962378296, 0.017671406260111794, -0.005067827607409096, -0.030575406231987578, -0.03674114759567645, -0.06829258639427017, -0.009129835973506611, -0.03291487295981359, 0.022665932682008744, 0.001983371703618945, -0.020737689565937835, 0.011507166934234453, 0.048492914773810444, 0.021765377734283334, 0.05540200069946741, 0.003233129429914152, 0.05423950520896914, 0.023316878982764033, -0.02681943545093308, -0.006360964110064427, -0.018996945519295275, 0.01854868404251586, 0.013882601977534902, -0.02241500403127091, 0.011309703885462404, -0.04311804950304948, 0.03430554275062541, -0.021608986563279114, -0.04786741117376124, -0.027412129392622893, 0.017666584020146665, -0.03806671367736282, -0.025289260490589747, -0.06252184400512321, 0.03656286794838859, 0.04341234368726162, 0.016901422327396824, 0.0036360320684836983, 0.025889186018909802, -0.01888048933790221, 0.05129655755166706, -0.03090884720368632, 0.017644813121504607, -0.014518492281827286, -0.01975328321431632, 0.03415687038166942, -0.023835794193615274, -0.0528194048610713, 0.000595921807437174, -0.03170362637829045, -0.02452363060649549, -0.0009672666122787704, -0.03249181227218991, 0.02205733918412021, -0.02258138367520096, -0.053297125306851614, 0.005820666945839554, 0.056061724636656464, 0.0391177426728177, -0.02706836228186411, -0.037162621318074636, 0.02349322339179059, -0.05116215537604754, 0.03375488016259154, 0.01835168443360887, -0.012439204999816642, -0.05825378588574154, 0.022078446256280734, 0.018456958801460522, 0.05435566638201839, 0.05104393820769547, -0.02976330309002199, -0.03526798300428052, 0.019204842057735236, 0.03745309343930624, -0.02952179811026793, 0.010897105316468769, -0.022072732738890672, -0.09014407891032321, 0.0076859631327425345, 0.02019413233901357, 0.016382244679510508, 0.04039100089357234, 0.016112571846895015, -0.012650020639672232, 0.03282787447166278, 0.01799392672732483, -0.028723078657590252, 0.022977264510499033, 0.04044662446616119, -0.02227100961152469, -0.03775471937968578, -0.0231586983843837, 0.02650615501894247, -0.04624368388381982, 0.022968449883775253, -0.0227411073198092, -0.0016721724624041369, -0.04246808391048502, 0.007453721545554638, -0.034674463542243586, 0.005802205173008798, -0.02413544102538644, -0.0022087942050363243, 0.017624294339959407, -0.005409316297783311, -0.04840973267143012, -0.029163717885831435, -0.060288047471686576, 0.03848226995130012, -0.013075811572051855, 0.02244868912430005, 0.012095262570778646, 0.022964102552519152, 0.04389415124566725, -0.023953804927158994, 2.7561401697663396e-05, 0.02808277877319408, 0.07561850184881373, 0.0013558754588290677, 0.056750122030941534, -0.002874154511087245, 0.013580802534251582, 0.0343413604269039, -0.010840829121451992, 0.06199190416592638, 0.009790058632780915, -0.003967423584050388, -0.04987051139844413, 0.009452115977425554, -0.03195085828066786, -0.003660270899744309, -0.01311254469583813, 0.009120675696402297, 0.009018289373757713, 0.023632967998775782, 0.03312824126100649, 0.01525922784941999, 0.020592142620303892, 0.019054470010372884, 0.013767688941831172, 0.042849265589777606, 0.03854507006645462, 0.00658905557797584, 0.007099087583095561, -0.02163985867861502, 0.017680524496475326, 0.0022771405267094274, 0.0557759948129324, -0.028367108742373203, -0.023930519534239785, -0.004825403793819763, 0.019286618032931694, -0.011391408085902704, -0.050817714720829084, 0.05724401609020327, 0.003262491932983981, 0.01897076795239393, -0.04551847962148417, -0.0023362099947894515, -0.019519753614347816, 0.03454115536183735, -0.00979648078940409, 0.021192280970970635, 0.029831472939679426, 0.03381323364064178, 0.02144566615542938, -0.005436171436061854, -0.036367690009075866, 0.01730228061288837, -0.012075664762288219, 0.015505285720891432, -0.012221146044629072, 0.021296139457740094, -0.012418263869120092, -0.05094971165112321, 0.016549243173255217, -0.023381150092396212, -0.03550807125499833, -0.014810540238659815, -0.018277382540243012, -0.007518192206441983, 0.012541579684554145, 0.03257863195794223, -0.027435920718274807, 0.0038965518878097266, 0.013850526415645348, -0.005841693366457035, 0.06063651421080469, -0.015785002435519547, -0.028952286669406923, 0.004366837799952452, 0.014690022404300116, 0.022119150022383946, -0.0019816964846803417, 0.003765109196715295, 0.010768612176612858, 0.04159140015896579, -0.005476955858856057, -0.005661666152982019, 0.004691604676068911, -0.011334535450099372, -0.0361662248915387, -0.007062775288803487, 0.019452399658412663, 0.003094873335720466, 0.03775448921634421, -0.011621793202956065, -0.05341137948281368, 0.0283193463707572, -0.022029090548873108, 0.021812934631387972, -0.04125404920152916, 0.020284057163928258, 0.008696321308552695, -0.0052190619411170095, 0.037431339403634474, 0.020945501045559343, 0.059607015725219724, -0.0071514657109075785, 0.0024340011132326484, 0.03256752891403405, 0.027693840455147424, 0.04162932666194373, 0.07673618055100506, -0.026148533082939764, 0.028913209309064894, -0.05231014609759993, 0.024924015324930937, -0.006527709671602979, -0.008799825078101406, -0.029292082109662387, 0.014124114551692171, -0.054012330596776285, -0.035949117902055884, 0.034763262356312434, -0.004497932293053741, 0.013879265315105934, -0.01861836243639355, -0.051174287268335075, -0.005881885745950963, -0.015281269919550136, 0.05988341647734478, -0.02783526442042674, 0.005893498856009429, 0.022333867443937654, -0.05109037296986963, -0.015157856652191666, -0.015603037857445637, -0.02745892869093285, -0.02554004769448555, -0.001635146796967508, 0.05420418432439562, 0.05055232965046446, 0.06974163956911439, -0.004630600251636308, -0.0039032821245377916, 0.033306892962511, 0.036427182689686616, -0.005792869951601304, 0.011342203060658142, 0.011821247795590033, -0.02540507732402001, -0.0011958321762165858, -0.023086438349921853, 0.029537893876119943, -0.02995820208701275, 0.051773273596327204, 0.07446649683351732, -0.05244125895583768, -0.004680766145429205, -0.035522906682733085, -0.043321642410768316, 0.013183418770611185, -0.00039114670560785024, -0.056614952018646775, -0.052833776556882234, 0.018497039375072893, -0.032105190518759055, 0.014446586336515051, -0.01869992469636114, 0.00180597833329085, -0.01749245982734297, -0.01766296389005097, 0.04365147916128777, -0.0133267320621839, 0.0008087498091480792, -0.03446893817138587, -0.0033800909282142777, 0.024788851739950848, -0.002863847325680571, 0.014387142155871802, 0.02931393743560971, -0.05166736884925595, 0.009311043604365266, -0.02319032608806371, 0.025392289024322324, -0.05248309863747158, 0.01961460649098099, -0.03878048617354423, -0.007928625863359342, -0.01610037279789301, -0.04084178375468178, 0.0077094591427606975, 0.03496234172530495, -0.023259427420975337, -0.03941026736773285, -0.05611618293865056, 0.007197713079213335, 0.025498955418430114, -0.008708938494706043, -0.020207033198255203, -0.0058382459769370666, 0.01151438137479793, 0.06603674342050131, -0.03157312577191425, 0.015550329926936527, -0.03549140851775654, -0.019669495884049863, 0.03560605931309609, -0.04141910077929577, -0.02767530187197708, 0.020151216507858106, -0.00011693781001125612, 0.06412482799050288, -0.007746496657918308, 0.010667018905640481, -0.052880439377724416, -0.06322413151843598, 0.004877885467609519, 0.05038482185955346, 0.005268640518049971, -0.002734465489740007, -0.0048474257422609825, 0.028770832679949794, 0.020278225973823557, -0.02078050847730327, -0.025110404358012924, 0.019548018734246005, 0.01325407911437726, 0.019208262171453723, 0.033335265100794785, -0.01285091129271528, 0.04033174493012206, 0.047245835308103765, 0.00218333953547736, -0.0034850435576628215, 0.07627091978841048, 0.02132659049327232, -0.03983462272984678, -0.0007091524480374977, 0.0027091548741559122, -0.04944197292169179, 0.04557582290443129, 0.03141744077331075, 0.043205237831345354, 0.05492747520385007, -0.03871674671833548, -0.012775786125455995, -0.02353550948633625, 0.005988934142300031, -0.00010543167960916028, 0.017469250284790346, -0.03368457150144726, 0.03162607526797325, 0.02343478129771238, 0.04774471559420336, 0.013096271570720753, 0.06183024723877064, -0.01575454861523758, -0.031723563436565134, -0.040561881690531855, -0.030361371871328872, -0.046619809175756866, -0.005194019116068331, -0.002671163833626363, -0.015353352356745552, -0.003328141633179282, 0.07667823756254424, 0.008381163385008324, -0.05399981552069698, 0.0016423887878106122, -0.043681924424294735, 0.03233687247778167, -0.004628316943562245, 0.031836914630801065, 0.05161203783513242, 0.03173171892922993, 0.016954971618250877, -0.012511385894250677, 0.012709364867285211, -0.005530782038658855, 0.009792849711246165, 0.08748050871815592, -0.01139535292357371, 0.00041784165122117953, -0.0195454476352109, -0.013096298056862628, 0.03173380682784155, -0.06044487905672708, 0.0012667818450985257, -0.04942509198619887, -0.021757793097310723, -0.03948817146096453, -0.022694922344055693, -0.033680578781553026, -0.010712633748645877, 0.0167917049606348, -0.00465508010000894, 0.023713837930325683, 0.020522145206173667, 0.05753410805316124, 0.0001519852284496533, -0.07021104066653445, -0.026244670428001046, 0.016455329909455963, 0.007972315821564184, -0.01611895531515511, 0.0010651875495033298, -0.03163382448939306, -0.07297110529794038, 0.008390792354039556, -0.016647509220800702, -0.010678467027446811, 0.0060646181688094, -0.011716604436893234, -0.04977007222504092, -0.017399978376237777, -0.01751614373736104, 0.0003701611585139289, 0.042210877706619264, 0.04017434050034129, -0.04016750369261176, -0.028029493081391663, -0.0075587235892869845, -0.017580015848629817, 0.016458239663616547, -0.024565619734267675, 0.06912551049310384, 0.004267323580042746, -0.030299634119249522, -0.03048696245036347, -0.015970570723519574, 0.04509324869368266, -0.003636792680230301, -0.004452086769885894, -0.0150451014557803, 0.006088721513239669, 0.04954865773696969, 0.06931227014178323, -0.03468332262822288, -0.0357088608982439, 0.04378230870206635, -0.04737095531287901, -0.05373907447688541, -0.04585027384309513, -0.07032900481609382, 0.01490055997248486, 0.029026754781716933, 0.06783655543473743, 0.054749113620167836, 0.01978752358151725, 0.03331932528451357, 0.017963050837122626, 0.011676452268784825, -0.0062872286107675795, 0.010162806102076774, 0.07194569019971955, 0.060515277418299214, -0.05163493103815429, -0.06704631288824417, 0.010936342121062866, 0.003951238826324628, -0.031012327276514887, -0.004150667488046253, -0.038941628752491686, 0.0970186239008138, -0.03149780871892997, 0.013576145613922957, 0.00720663124596406, -0.0420014182064408, -0.00968061180325398, -0.018690114535864156, -0.001223062348699626, -0.009354674401485285, 0.012808870095282174, -0.019559829184667026, 0.04130682698835922, 0.0038458669384339524, -0.012271451882106132, -0.030730781137569912, 0.09518049512880516, 0.0029591713579908696, -0.011123581421758405, 0.0055421641213127554, 0.013252410663339893, -0.03831675810023488, 0.018026956412555542, -0.034552474652370296, -0.05860030654038316, -0.016846288944860482, -0.014147162660085102, -0.002406484586787915, 0.0895665027493427, 0.0002930492900681553, -0.041453743363801664, -0.022924835099879547, 0.02242804540792371, 0.02438052996186747, -0.03534275412727266, -0.011167965773890282, -0.0021064718673823373, 0.015268886738342488, 0.0072695143157522, 0.04369437891899953, -0.03463391973031673, -0.005077556585674469, -0.0028936326731040687, 0.058574283532538574, 0.021254425922912636, 0.05571837999235748, -0.0020452477111427567, 0.042010146970132424, -0.006773481398414157, 0.01820141487216838, 0.047699309149857, -0.06029242747805861, 0.02689373752302146, -0.02803651973576196, 0.004086799033694471, -0.05650963869782592, -0.0477650341559552, 0.019442453969556572, -0.004907076771366669, -0.021093414742267766, -0.06865621538720595, -0.06369302991130842, 0.03127474444292156, 0.0027934408298388906, 0.03238712463343187, -0.10076366715892209, 0.08793547077052882, -0.0172527514538392, 0.005277612515177012, -0.003840435631825275, -0.0016194319477000263, 0.03732755220454907, -0.0012215770801259527, 0.027626857891116862, -0.011199130667116993, 0.02777485824436885, 0.010548279872436523, 0.04112977706703733, 0.03200294233610488, 0.002161994990657931, 0.07110045158914627, -0.026547173068286467, 0.03508857833909482, -0.0764191038299976, 0.020230232043218454, 0.040908872227367304, -0.034841724419086374, 0.04829034224529114, -0.005581692092190481, -0.011641781886987364, -0.07225367505227699, -0.007870613707074904, 0.006469092158237883, 0.02673750130360456, -0.007640895982171331, 0.025418304186869765, -0.0022900293884601857, 0.0625311541164988, 0.007411347754622705, -0.03289906949113015, 0.07294988704578469, 0.02929782372602528, -0.018807743776617026, 0.012454013884347763, 0.04504030681667418, -0.0053230695819566475, -0.083370381187166, 0.021418762084980673, 0.0409508379007406, 0.010493757519614936, 0.03947733202324364, 0.07331293124929808, 0.03870282630187697, -0.05050765226830265, -0.06657713513310222, 0.004538762346259367, 0.016545884109321476, 0.03848560957669282, 0.07523988418811513, 0.039432366880757554, 0.04950501241566564, -0.014707454664415778, 0.005384358944031099, -0.018424731380163185, -0.010811053797792224, -0.002175263432505118, -0.057653914020973224, 0.0025455458507721795, 0.003917774340506545, -0.03904680460425709, 0.046642353976258585, -0.061913959784343414, 0.020855704062897978, -0.021576053562635727, 0.006686451037091862, 0.013607219003390656, -0.012028465968455491, 0.041976076711001536, 0.00106875607626466, -0.07476300715324107, 0.031231212830226875, 0.04342657239561424, 0.09640489245542769, -0.10982664701591217, 0.0531832569554187, -0.018514528756502068, 0.001992754364249031, -0.06139877038130898, 0.011443209804950444, 0.09157459997256662, -0.03589567409514609, 0.08716388574896389, 0.0745009316875037, -0.0069808822817845236, -0.040206589319878624, -0.02577045587270255, -0.014591356664879675, 0.0035012771240002347, 0.06658853876634613, -0.1302264389392668, -0.009495862163165374, -0.03704233352775488, -0.048628022544302235, 0.05539036392702701, 0.07147423368974248, -0.08208202444755874, -0.021047191096427456, 0.022413863504164102, 0.023762378163794264, -0.009688810259575496, -0.047485803831376724, 0.06866905749373627, 0.02083559075698222, 0.03103667923706956, -0.03252216505200048, -0.0952114420910362, -0.04515954870735648, 0.12492101930501345, 0.0009506663943426562, 0.01158257099430042, -0.0447812222688745, 0.02249299183501231, 0.09495562730952432, 0.014881078917037875, 0.0279684577695704, -0.019492493215375974, 0.04182328107311641, -0.07823095981452521, -0.004507137159478087, -0.00907180693866742, 0.05991557353666598, -0.004087636766326387, -0.022390030093152942, 0.03810721293850822, 0.03125577253222338, -0.024357812248447873, 0.03180158292628667, -0.01681175163710085, 0.032486021477589944, 0.03598186206036846, 0.052699228262212704, 0.012279265112179005, 0.02461621188873398, 0.011696315544594629, -0.049009616010978446, -0.02495070498309493, -0.002843583862208423, 0.07953352434354684, 0.028912527627337467, -0.08536157506791939, 0.04771049304591574, -0.02033487915046095, -0.055805954723175455, 0.1262198514979722, 0.046757880806532905, -0.002432313058704107, -0.045853279982571576, -0.06503505513673646, 0.04129650377128631, -0.06265032553170438, -0.03882135307094359, 0.00885510756528778, -0.0034923363120977317, 0.021836039666670283, -0.005593417436814109, 0.08246139861690586, -0.13017305570988005, 0.10774702285819726, -0.05117273622534927, -0.081557915779172, 0.0548050733252763, 0.005422089750456543, -0.022184743927472852, 0.08215793175661404, -0.0363724347794264, 0.00029749605491480064, -0.008605907418509856, 0.15797122809616954, 0.04241298495420541, 0.06963276989762736, 0.001243950293737417, 0.021165646755380078, -0.038402937484067055, 0.000227629268238616, -0.04664314151817327, 0.10688483592049802, -0.08773165547648683, 0.08228782087397965, -0.028008583970314922, -0.049464555927701465, -0.033205110807406533, 0.001335607716166326, -0.13441392720263434, -0.06006882279554471, -0.16044460692833282, -0.03581121899551741, -0.08870642887043147, -0.05626171554851221, -0.03399294408656347, -0.09078259174971617, -0.03739800074719634, -0.06478726842499594, 0.12236331338662174, 0.02923796791423971, 0.0503864201709627, -0.014382851966021853, 0.06710036434731738, -0.0030392856388107297, 0.04650860190403467, 0.01334999175981875, 0.02638639546110491, -0.010163072475266259, 0.0170791670611177, -0.02248654255552799, -0.0019184179607815376, -0.039789806079965885, 0.07338705222840243, 0.015537375360432959, 0.05181231957129921, -0.006887819275294815, 0.019233611199906048, 0.03437577595965299, 0.05161932802263211, 0.10144716512795127, 0.055205595255503365, 0.031719752295246734, 0.004548408397682797, -0.0338888039636099, -0.012831485230810525, -0.01593031102792314, 0.014117245962001722, -0.009343155038322342, -0.12760190411172687, -0.0737549446806888, -0.015580244766132631, 0.07048131496667076, -0.04377106899315096, -0.002324167798944243, 0.024111566250569923, 0.018034569825029725, 0.021208322174924785, -0.11690880685478812, 0.09621665175565153, -0.005932870529992378, -0.05216943778358951, -0.04852339215040555, -0.028929717364451126, -0.08506392001352116, 0.11383483873551288, -0.028604862506808132, 0.03733667046824464, 0.0325761294652551, -0.019750775956434766, 0.016323275670530168, -0.02387611395129646, 0.06443536795538908, -0.08322342701277277, -0.06611962515157169, 0.054708467466864474, 0.0021471684321306937, -0.04922517513738686, 0.03176917421129041, -0.020161238798474097, 0.08821738462321387, -0.04686233249202307, 0.021617905619884786, -0.022765052267204336, 0.1058838142450796, 0.012488530153363446, 0.06687829973124769, 0.03841547426752593, -0.029485526163913554, -0.034603006121508045, 0.046982390718862656, 0.0565547407800297, 0.060463268355824606, -0.004174336837545531, 0.039240480312028994, -0.0069891331136308025, -0.10278474693175767, 0.002754479309648181, 0.04263803775663617, -0.031072459359585233, -0.06436346234250376, 0.031363331903697216, -0.048129238810487425, 0.016567779822738223, -4.4503270017644587e-05, -0.024837475344090205, 0.0006807708426864335, -0.07043398085674701, 0.010945105903921656, -0.07939201927033722, -0.02990487873023834, -0.07209736475388985, -0.04222000408060323, -0.01611022879435046, 0.009572104420813538, -0.048692968933189626, 0.0645714099881369, -0.03606306172823907, 0.14873201392221885, -0.02046431718634398, 0.050644933204459584, 0.0008726384005159979, -0.06493567883236478, -0.093760860401923, 0.07171619085948246, -0.03015628073347975, -0.001120453463866896, 0.01987357415694539, -0.02894240089655771, 0.0014378424932420572, 0.01400319846546125, 0.014120888659651665, -0.04084362720532459, 0.03495265622081968, -0.025346571751459723, 0.050651748148894504, -0.08517152149728353, -0.00910238990117922, 0.005436661682632798, -0.04295290003163028, -0.08357299301721427, 0.006129807620649299, -0.02109775630286295, 0.051861924044665615, -0.03188135981447673, 0.011722566862965036, 0.01575622606710206, 0.003187175896248327, -0.025170011834796408, 0.006296791847322003, -0.021567226737244743, -0.044212338917539604, 0.08320900327833879, 0.13593523757532877, -0.05153177565406026, 0.06366975302099788, 0.06237767945968259, -0.007836428658076284, -0.05138246510031912, 0.033026595607111665, 0.02803247985898421, -0.07046808480770664, -0.04273748727740384, 0.01842536083741215, -0.0645556776006023, -0.0442435642475223, -0.09067174855108938, -0.0795791025492283, 0.0655385032620257, 0.027523858008345677, -0.020245014603038108, -0.0621265709014827, 0.09048638601757937, -0.025474336882902904, 0.040000267602921066, 0.06255716010579263, 0.048877248839166054, 0.005091671725946903, -0.021842612890246513, -0.06696495804843965, 0.0214536601031362, -0.02920291138915688, 0.01260798679952354, 0.04092586056438015, 0.03068497123281954, 0.03153392857598416, 0.0147753373944659, 0.0748558490654542, 0.08368936743277242, 0.06350837917375017, -0.10219735657493778, -0.03502830864370358, -0.019888859542919236, -0.10217557791431284, -0.018899639368768976, 0.023876832793807822, -0.004969165716425758, -0.06797895669535035, -0.06137329098323255, 0.06075138237379994, 0.01129478787742382, -0.1368687225635182, 0.09542540929332384, -0.0719445911456741, -0.010223702968615484, 0.08290142835024235, -0.033771045394250174, -0.08279560722219188, -0.04520540507831056, -0.09654581357399047, -0.033703206195191654, 0.003599486181168922, -0.07863649592649516, 0.14477092668422165, -0.031483516113837276, 0.0699343460565394, -0.022074334729144558, -0.09090915450350052, -0.17377588512527645, -0.038991296460005216, 0.06399965471861968, -0.02816210595771447, 0.008456765768434432, 0.05342364970248383, -0.0959060989601461, 0.0018807035072705527, -0.010262307088855746, -0.10144005269320865, 0.010292293489448347, -0.10973924851903825, -0.0023075335671616615, -0.06096364260298653, -0.013878783850881453, -0.028279582903895133, 0.039414093564660094, 0.000727320579538488, -0.004387429429701224, 0.045530490515860486, 0.08825807174176509, 0.04295133567425588, -0.04482905093363683, 0.008555167610039039, 0.008257711931245986, -0.04206281326895927, -0.15605775781883258, 0.06603302739595489, 0.017403887962829316, -0.1015910133257871, -0.13312275001392954, 0.04134572383195228, -0.042202719523912, -0.1472330601689958, 0.02450285015293945, 0.07557087864060372, 0.025930039894153167, 0.0072439909099915175, -0.015835508423119697, -0.0004258002135358587, -0.07342732229194407, 0.024614627458767305, -0.04380503597538955, -0.026829293975610003, -0.09507627954771221]\n"
     ]
    }
   ],
   "source": [
    "n_dims = 1335\n",
    "pca = PCA(n_components=n_dims)\n",
    "labels_pca = pca.fit_transform(df['one_hot_overview'].values.tolist())\n",
    "df[\"overview_pca\"] = labels_pca.tolist()\n",
    "print(df[\"overview_pca\"][0])"
   ]
  },
  {
   "attachments": {},
   "cell_type": "markdown",
   "id": "309d3256",
   "metadata": {},
   "source": [
    "# Q4 K-Means Clustering\n",
    "\n",
    "**Q4.1** Cluster the movies based on the features that were extracted via PCA in the last step. Set $K=20$. Add the predicted cluster into the dataframe as a new column called `cluster_kmeans`. Print out the elements of cluster number 0 from the dataframe."
   ]
  },
  {
   "cell_type": "code",
   "execution_count": 18,
   "id": "f5f5781e",
   "metadata": {},
   "outputs": [
    {
     "name": "stdout",
     "output_type": "stream",
     "text": [
      "                            title  \\\n",
      "13                The Lone Ranger   \n",
      "48          Jack the Giant Slayer   \n",
      "99       The Fast and the Furious   \n",
      "138            The Last Airbender   \n",
      "216                    Life of Pi   \n",
      "...                           ...   \n",
      "4665             The Stewardesses   \n",
      "4686    The Trials Of Darryl Hunt   \n",
      "4694          She's Gotta Have It   \n",
      "4736  I Love You, Don't Touch Me!   \n",
      "4754                Bending Steel   \n",
      "\n",
      "                                               overview  \\\n",
      "13    The Texas Rangers chase down a gang of outlaws...   \n",
      "48    The story of an ancient war that is reignited ...   \n",
      "99    Domenic Toretto is a Los Angeles street racer ...   \n",
      "138   The story follows the adventures of Aang, a yo...   \n",
      "216   The story of an Indian boy named Pi, a zookeep...   \n",
      "...                                                 ...   \n",
      "4665  The Stewardesses is a 1969 Softcore 3-D film. ...   \n",
      "4686  \"The Trials of Darryl Hunt\" is a feature docum...   \n",
      "4694  The story of Nola Darling's simultaneous sexua...   \n",
      "4736  The story of a 25 year old virgin girl, lookin...   \n",
      "4754  The Cyclone, The Freakshow, The Mermaid Parade...   \n",
      "\n",
      "                                                 genres  proc_genres  \\\n",
      "13    [{\"id\": 28, \"name\": \"Action\"}, {\"id\": 12, \"nam...    Adventure   \n",
      "48    [{\"id\": 28, \"name\": \"Action\"}, {\"id\": 10751, \"...       Action   \n",
      "99    [{\"id\": 28, \"name\": \"Action\"}, {\"id\": 80, \"nam...        Crime   \n",
      "138   [{\"id\": 28, \"name\": \"Action\"}, {\"id\": 12, \"nam...       Action   \n",
      "216   [{\"id\": 12, \"name\": \"Adventure\"}, {\"id\": 18, \"...        Drama   \n",
      "...                                                 ...          ...   \n",
      "4665                     [{\"id\": 35, \"name\": \"Comedy\"}]       Comedy   \n",
      "4686                [{\"id\": 99, \"name\": \"Documentary\"}]  Documentary   \n",
      "4694  [{\"id\": 35, \"name\": \"Comedy\"}, {\"id\": 10749, \"...      Romance   \n",
      "4736  [{\"id\": 35, \"name\": \"Comedy\"}, {\"id\": 10749, \"...       Comedy   \n",
      "4754                [{\"id\": 99, \"name\": \"Documentary\"}]  Documentary   \n",
      "\n",
      "     one_hot_genres                                      proc_overview  \\\n",
      "13         Ellipsis  [The, Texas, Rangers, chase, down, a, gang, of...   \n",
      "48         Ellipsis  [The, story, of, an, ancient, war, that, is, r...   \n",
      "99         Ellipsis  [Domenic, Toretto, is, a, Los, Angeles, street...   \n",
      "138        Ellipsis  [The, story, follows, the, adventures, of, Aan...   \n",
      "216        Ellipsis  [The, story, of, an, Indian, boy, named, Pi, a...   \n",
      "...             ...                                                ...   \n",
      "4665       Ellipsis  [The, Stewardesses, is, a, 1969, Softcore, 3D,...   \n",
      "4686       Ellipsis  [The, Trials, of, Darryl, Hunt, is, a, feature...   \n",
      "4694       Ellipsis  [The, story, of, Nola, Darlings, simultaneous,...   \n",
      "4736       Ellipsis  [The, story, of, a, 25, year, old, virgin, gir...   \n",
      "4754       Ellipsis  [The, Cyclone, The, Freakshow, The, Mermaid, P...   \n",
      "\n",
      "      overview_len                                   one_hot_overview  \\\n",
      "13             376  [0.0, 0.0, 0.0, 0.0, 0.0, 0.0, 0.0, 0.0, 0.0, ...   \n",
      "48             518  [0.0, 0.0, 0.0, 0.0, 0.0, 0.0, 0.0, 0.0, 0.0, ...   \n",
      "99             248  [0.0, 0.0, 0.0, 0.0, 0.0, 0.0, 0.0, 0.0, 0.0, ...   \n",
      "138            194  [0.0, 0.0, 0.0, 0.0, 0.0, 0.0, 0.0, 0.0, 0.0, ...   \n",
      "216            187  [0.0, 0.0, 0.0, 0.0, 0.0, 0.0, 0.0, 0.0, 0.0, ...   \n",
      "...            ...                                                ...   \n",
      "4665           236  [0.0, 0.0, 0.0, 0.0, 0.0, 0.0, 0.0, 0.0, 0.0, ...   \n",
      "4686           589  [0.0, 0.0, 0.0, 0.0, 0.0, 0.0, 0.0, 0.0, 0.0, ...   \n",
      "4694           233  [0.0, 0.0, 0.0, 0.0, 0.0, 0.0, 0.0, 0.0, 0.0, ...   \n",
      "4736           133  [0.0, 0.0, 0.0, 0.0, 0.0, 0.0, 0.0, 0.0, 0.0, ...   \n",
      "4754           456  [0.0, 0.0, 0.0, 0.0, 0.0, 0.0, 0.0, 0.0, 0.0, ...   \n",
      "\n",
      "                                           overview_pca  cluster_kmeans  \n",
      "13    [0.449645825602772, 0.7308204219473957, -0.140...               0  \n",
      "48    [-0.3312249195509669, 0.5042751841287533, -0.4...               0  \n",
      "99    [-0.5024088781833962, 1.593590147768982, -0.55...               0  \n",
      "138   [0.25883597508426437, 1.677890553323062, 0.214...               0  \n",
      "216   [-0.2690192915643817, 0.5222778294088999, -0.5...               0  \n",
      "...                                                 ...             ...  \n",
      "4665  [-0.8232583707176493, 1.314957343622529, -0.31...               0  \n",
      "4686  [-0.8822211544539855, 1.0387807709035637, -0.9...               0  \n",
      "4694  [0.1858942512972844, -0.2294280581975647, -0.4...               0  \n",
      "4736  [0.4828716775037248, 0.7684655411623753, -0.20...               0  \n",
      "4754  [-0.04428917110543126, -0.6118941196801235, -0...               0  \n",
      "\n",
      "[146 rows x 10 columns]\n"
     ]
    }
   ],
   "source": [
    "# import KMeans class\n",
    "from sklearn.cluster import KMeans\n",
    "\n",
    "# Perform K-means clustering\n",
    "kmeans = KMeans(n_clusters=20)\n",
    "# fit model\n",
    "kmeans.fit(x_train_reshaped)\n",
    "\n",
    "y_preds = kmeans.predict(x_train_reshaped)\n",
    "df[\"cluster_kmeans\"] = y_preds\n",
    "\n",
    "# print out elements of cluster 0\n",
    "cluster_0_elements = df[df[\"cluster_kmeans\"] == 0]\n",
    "print(cluster_0_elements)"
   ]
  },
  {
   "attachments": {},
   "cell_type": "markdown",
   "id": "34334c6c",
   "metadata": {},
   "source": [
    "**Q4.2** Does this clustering seem alright to you (based on your movie watching history)? Are there movies that go well together and movies that don't?"
   ]
  },
  {
   "attachments": {},
   "cell_type": "markdown",
   "id": "0407f9e4",
   "metadata": {},
   "source": [
    "**Q4.3** Now, we'll figure out whether using the elbow method is right for this dataset. Plot a loss (using `kmeans.inertia_`) versus cluster size plot. Is there an elbow that you see clearly? What cluster size would you choose?"
   ]
  },
  {
   "attachments": {},
   "cell_type": "markdown",
   "id": "4984dcd9",
   "metadata": {},
   "source": [
    "20"
   ]
  },
  {
   "cell_type": "code",
   "execution_count": 19,
   "id": "cb3a37ee",
   "metadata": {},
   "outputs": [
    {
     "data": {
      "image/png": "[encoded data removed]",
      "text/plain": [
       "<Figure size 640x480 with 1 Axes>"
      ]
     },
     "metadata": {},
     "output_type": "display_data"
    }
   ],
   "source": [
    "cluster_sizes = []\n",
    "losses = []\n",
    "\n",
    "\n",
    "for n_clusters in range(1, 21):\n",
    "    kmeans = KMeans(n_clusters=n_clusters)\n",
    "    kmeans.fit(x_train_reshaped)\n",
    "    cluster_sizes.append(n_clusters)\n",
    "    losses.append(kmeans.inertia_)\n",
    "    \n",
    "\n",
    "plt.plot(cluster_sizes, losses, marker='o')\n",
    "plt.xlabel('Number of Clusters')\n",
    "plt.ylabel('Inertia (Loss)')\n",
    "plt.title('Loss versus Cluster Size')\n",
    "plt.show()"
   ]
  },
  {
   "attachments": {},
   "cell_type": "markdown",
   "id": "3e89e224",
   "metadata": {},
   "source": [
    "# Q5 Gaussian Mixture Models\n",
    "\n",
    "**Q5.1** As with the K-means above, cluster the movies based on the features that were extracted via PCA in a previous step. Set $K=20$. Add the predicted cluster into the dataframe as a new column called `cluster_gmm`. Print out the elements of a single cluster of your choice from the dataframe."
   ]
  },
  {
   "cell_type": "code",
   "execution_count": 20,
   "id": "86735028",
   "metadata": {},
   "outputs": [
    {
     "name": "stdout",
     "output_type": "stream",
     "text": [
      "                                  title  \\\n",
      "87                         Tomorrowland   \n",
      "161                       Gods of Egypt   \n",
      "263         Around the World in 80 Days   \n",
      "271                          The Island   \n",
      "272                      Town & Country   \n",
      "...                                 ...   \n",
      "4698  Sweet Sweetback's Baadasssss Song   \n",
      "4703                      The Horse Boy   \n",
      "4729                      Straightheads   \n",
      "4751                      The Naked Ape   \n",
      "4767                Mutual Appreciation   \n",
      "\n",
      "                                               overview  \\\n",
      "87    Bound by a shared destiny, a bright, optimisti...   \n",
      "161   A common thief joins a mythical god on a quest...   \n",
      "263   A bet pits a British inventor, a Chinese thief...   \n",
      "271   In 2019, Lincoln Six-Echo is a resident of a s...   \n",
      "272   Porter Stoddard is a well-known New York archi...   \n",
      "...                                                 ...   \n",
      "4698  After saving a Black Panther from some racist ...   \n",
      "4703  Filmmaker Michel Orion Scott captures a magica...   \n",
      "4729  There is instant chemistry between Alice (Gill...   \n",
      "4751  The Naked Ape is a coming-of-age film followin...   \n",
      "4767  Alan is a musician who leaves a busted-up band...   \n",
      "\n",
      "                                                 genres      proc_genres  \\\n",
      "87    [{\"id\": 12, \"name\": \"Adventure\"}, {\"id\": 10751...  Science Fiction   \n",
      "161                     [{\"id\": 14, \"name\": \"Fantasy\"}]          Fantasy   \n",
      "263   [{\"id\": 28, \"name\": \"Action\"}, {\"id\": 12, \"nam...        Adventure   \n",
      "271   [{\"id\": 28, \"name\": \"Action\"}, {\"id\": 53, \"nam...  Science Fiction   \n",
      "272   [{\"id\": 35, \"name\": \"Comedy\"}, {\"id\": 10749, \"...           Comedy   \n",
      "...                                                 ...              ...   \n",
      "4698  [{\"id\": 28, \"name\": \"Action\"}, {\"id\": 18, \"nam...          Romance   \n",
      "4703                [{\"id\": 99, \"name\": \"Documentary\"}]      Documentary   \n",
      "4729                   [{\"id\": 53, \"name\": \"Thriller\"}]         Thriller   \n",
      "4751  [{\"id\": 18, \"name\": \"Drama\"}, {\"id\": 35, \"name...           Family   \n",
      "4767  [{\"id\": 18, \"name\": \"Drama\"}, {\"id\": 35, \"name...           Comedy   \n",
      "\n",
      "     one_hot_genres                                      proc_overview  \\\n",
      "87         Ellipsis  [Bound, by, a, shared, destiny, a, bright, opt...   \n",
      "161        Ellipsis  [A, common, thief, joins, a, mythical, god, on...   \n",
      "263        Ellipsis  [A, bet, pits, a, British, inventor, a, Chines...   \n",
      "271        Ellipsis  [In, 2019, Lincoln, SixEcho, is, a, resident, ...   \n",
      "272        Ellipsis  [Porter, Stoddard, is, a, wellknown, New, York...   \n",
      "...             ...                                                ...   \n",
      "4698       Ellipsis  [After, saving, a, Black, Panther, from, some,...   \n",
      "4703       Ellipsis  [Filmmaker, Michel, Orion, Scott, captures, a,...   \n",
      "4729       Ellipsis  [There, is, instant, chemistry, between, Alice...   \n",
      "4751       Ellipsis  [The, Naked, Ape, is, a, comingofage, film, fo...   \n",
      "4767       Ellipsis  [Alan, is, a, musician, who, leaves, a, busted...   \n",
      "\n",
      "      overview_len                                   one_hot_overview  \\\n",
      "87             303  [0.0, 0.0, 0.0, 0.0, 0.0, 0.0, 0.0, 0.0, 0.0, ...   \n",
      "161             60  [0.0, 0.0, 0.0, 0.0, 0.0, 0.0, 0.0, 0.0, 0.0, ...   \n",
      "263            132  [0.0, 0.0, 0.0, 0.0, 0.0, 0.0, 0.0, 0.0, 0.0, ...   \n",
      "271            329  [0.0, 0.0, 0.0, 0.0, 0.0, 0.0, 0.0, 0.0, 0.0, ...   \n",
      "272            308  [0.0, 0.0, 0.0, 0.0, 0.0, 0.0, 0.0, 0.0, 0.0, ...   \n",
      "...            ...                                                ...   \n",
      "4698           177  [0.0, 0.0, 0.0, 0.0, 0.0, 0.0, 0.0, 0.0, 0.0, ...   \n",
      "4703           271  [0.0, 0.0, 0.0, 0.0, 0.0, 0.0, 0.0, 0.0, 0.0, ...   \n",
      "4729           483  [0.0, 0.0, 0.0, 0.0, 0.0, 0.0, 0.0, 0.0, 0.0, ...   \n",
      "4751           105  [0.0, 0.0, 0.0, 0.0, 0.0, 0.0, 0.0, 0.0, 0.0, ...   \n",
      "4767           234  [0.0, 0.0, 0.0, 0.0, 0.0, 0.0, 0.0, 0.0, 0.0, ...   \n",
      "\n",
      "                                           overview_pca  cluster_kmeans  \\\n",
      "87    [-1.8449022677513622, 1.3634864299334357, -0.5...              11   \n",
      "161   [-1.2494320222005257, 0.819581570766217, 0.031...              11   \n",
      "263   [-2.318642540566379, 2.1203897166775834, -0.45...              11   \n",
      "271   [-0.8892838107218076, 1.2811612707550377, -0.2...              11   \n",
      "272   [-1.8862671054996716, 1.7989515578792963, 0.17...              11   \n",
      "...                                                 ...             ...   \n",
      "4698  [-1.2396620281827273, 0.8689545748496225, 0.04...              11   \n",
      "4703  [-1.7327835566567336, 1.7087972394670672, 0.00...              11   \n",
      "4729  [-1.3227412447355897, 0.6580004317615792, -0.5...               9   \n",
      "4751  [-1.212299977522991, 0.9851374637952283, -0.00...              11   \n",
      "4767  [-1.8996921628256573, 1.4487527509856977, -0.4...              11   \n",
      "\n",
      "      cluster_gmm  \n",
      "87              0  \n",
      "161             0  \n",
      "263             0  \n",
      "271             0  \n",
      "272             0  \n",
      "...           ...  \n",
      "4698            0  \n",
      "4703            0  \n",
      "4729            0  \n",
      "4751            0  \n",
      "4767            0  \n",
      "\n",
      "[230 rows x 11 columns]\n"
     ]
    }
   ],
   "source": [
    "from sklearn.mixture import GaussianMixture\n",
    "\n",
    "#decreased sample size bc everything was crashing\n",
    "sample_size = 1000 \n",
    "df_sample = df.sample(n=sample_size, random_state=42)\n",
    "\n",
    "#x_train_sample = np.array(df_sample['one_hot_overview'])\n",
    "x_train_pca = pca.fit_transform(x_train_reshaped)\n",
    "\n",
    "n_clusters = 20\n",
    "gmm = GaussianMixture(n_components=n_clusters)\n",
    "gmm.fit(x_train_pca)\n",
    "cluster_labels = gmm.predict(x_train_pca)\n",
    "df[\"cluster_gmm\"] = cluster_labels\n",
    "\n",
    "\n",
    "cluster_0_elements = df[df[\"cluster_gmm\"] == 0]\n",
    "print(cluster_0_elements)"
   ]
  },
  {
   "attachments": {},
   "cell_type": "markdown",
   "id": "95ed02d9",
   "metadata": {},
   "source": [
    "**Q4.2** Does this clustering seem alright to you (based on your movie watching history)? Are there movies that go well together and movies that don't? How does this compare to K-Means Clustering?"
   ]
  },
  {
   "attachments": {},
   "cell_type": "markdown",
   "id": "c62e20dd",
   "metadata": {},
   "source": [
    "Seems good,  for instance, Iron Man and Monsters vs Aliens, which seem similar to me. Also similar to K-means"
   ]
  },
  {
   "attachments": {},
   "cell_type": "markdown",
   "id": "3b0064a1",
   "metadata": {},
   "source": [
    "**Q4.3** Let's check out the size of the clusters. Create a double bar plot (**as you did in the last assignment**) showing the different sizes of the clusters.\n",
    "\n",
    "*Hint: you may want to consider `df.value_counts()` if you're unfamiliar.*"
   ]
  },
  {
   "cell_type": "code",
   "execution_count": 21,
   "id": "e775ad4f",
   "metadata": {},
   "outputs": [
    {
     "data": {
      "image/png": "[encoded data removed]",
      "text/plain": [
       "<Figure size 640x480 with 1 Axes>"
      ]
     },
     "metadata": {},
     "output_type": "display_data"
    }
   ],
   "source": [
    "cluster_sizes = df[\"cluster_gmm\"].value_counts().sort_index()\n",
    "\n",
    "plt.bar(cluster_sizes.index, cluster_sizes.values)\n",
    "plt.xlabel(\"Cluster Label\")\n",
    "plt.ylabel(\"Cluster Size\")\n",
    "plt.title(\"Cluster Sizes\")\n",
    "plt.show()"
   ]
  },
  {
   "attachments": {},
   "cell_type": "markdown",
   "id": "cfc124da",
   "metadata": {},
   "source": [
    "**Q4.4** Do you see a significant difference in the sizes of the clusters? Which is more uniform? Any thought on why?"
   ]
  },
  {
   "attachments": {},
   "cell_type": "markdown",
   "id": "9f538519",
   "metadata": {},
   "source": [
    "*Your text answer here*"
   ]
  },
  {
   "attachments": {},
   "cell_type": "markdown",
   "id": "aa60615d",
   "metadata": {},
   "source": [
    "# Q6: A very simple recommender system\n",
    "\n",
    "One useful thing that clustering is often used for (though at a much greater complexity) is in **recommender systems**. These are systems with users and items (movies, files, documents, etc.), where new items are shown to the user based on what they've previously interacted with, and possibly also on the behaviour of other users.\n",
    "\n",
    "**Q6.1** Assume your dentist has just watched the movie Avatar and asks you for a recommendation. Lucky for you, you just finished this assignment. Using the cluster indices of the movie Avatar for both the K-means and GMM methods, print out suggestions for new movies."
   ]
  },
  {
   "cell_type": "code",
   "execution_count": 24,
   "id": "86a74f68",
   "metadata": {},
   "outputs": [
    {
     "name": "stdout",
     "output_type": "stream",
     "text": [
      "Similar movies based on K-means clustering:\n",
      "0                                           Avatar\n",
      "9               Batman v Superman: Dawn of Justice\n",
      "12      Pirates of the Caribbean: Dead Man's Chest\n",
      "23                              The Golden Compass\n",
      "28                                  Jurassic World\n",
      "                           ...                    \n",
      "4704                      When the Lights Went Out\n",
      "4723                                    The Mighty\n",
      "4747                                   The Dirties\n",
      "4755                                    The Signal\n",
      "4782                          Stories of Our Lives\n",
      "Name: title, Length: 326, dtype: object\n",
      "Similar movies based on GMM clustering:\n",
      "0                             Avatar\n",
      "75                        Waterworld\n",
      "78                   The Jungle Book\n",
      "97                     Shin Godzilla\n",
      "99          The Fast and the Furious\n",
      "                    ...             \n",
      "4720                     The Gallows\n",
      "4723                      The Mighty\n",
      "4725    The Lost Skeleton of Cadavra\n",
      "4755                      The Signal\n",
      "4759               George Washington\n",
      "Name: title, Length: 157, dtype: object\n"
     ]
    }
   ],
   "source": [
    "prev_watch = \"Avatar\"\n",
    "\n",
    "\n",
    "cluster_kmeans = df.loc[df[\"title\"] == prev_watch, \"cluster_kmeans\"].values[0]\n",
    "\n",
    "\n",
    "cluster_gmm = df.loc[df[\"title\"] == prev_watch, \"cluster_gmm\"].values[0]\n",
    "\n",
    "similar_movies_kmeans = df[df[\"cluster_kmeans\"] == cluster_kmeans]\n",
    "print(\"Similar movies based on K-means clustering:\")\n",
    "print(similar_movies_kmeans[\"title\"])\n",
    "\n",
    "\n",
    "similar_movies_gmm = df[df[\"cluster_gmm\"] == cluster_gmm]\n",
    "print(\"Similar movies based on GMM clustering:\")\n",
    "print(similar_movies_gmm[\"title\"])"
   ]
  },
  {
   "attachments": {},
   "cell_type": "markdown",
   "id": "4ecec1ff",
   "metadata": {},
   "source": [
    "**Q6.2** Are any of the two recommender systems any good? Would you use them if your real dentist asks for a movie suggestion?"
   ]
  },
  {
   "attachments": {},
   "cell_type": "markdown",
   "id": "aae96b8a",
   "metadata": {},
   "source": [
    "I think i would use it yes"
   ]
  },
  {
   "attachments": {},
   "cell_type": "markdown",
   "id": "92b84753",
   "metadata": {},
   "source": [
    "**Q6.3** How would you try making the recommender systems better?"
   ]
  },
  {
   "attachments": {},
   "cell_type": "markdown",
   "id": "40d3f6dd",
   "metadata": {},
   "source": [
    "Maybe increase sample size or number of clusters "
   ]
  },
  {
   "attachments": {},
   "cell_type": "markdown",
   "id": "7df2d34a",
   "metadata": {},
   "source": [
    "**Q6.4** Say your dentist likes the movies you suggested and has watched a few more since you met him last. How would you incorporate this fact (recommendation based on multiple movies) into your suggestions?"
   ]
  },
  {
   "attachments": {},
   "cell_type": "markdown",
   "id": "b3549de4",
   "metadata": {},
   "source": [
    "*Your text answer here*"
   ]
  },
  {
   "attachments": {},
   "cell_type": "markdown",
   "id": "f20b74ce",
   "metadata": {},
   "source": [
    "**Q6.5** An alternative method for recommendations is to use your encoded movie-feature vectors (in this case your overview+PCA vector) in order to find out what movie may be most similar to the current one. In the case of K-Means and GMMs, \"similarity\" referred to Euclidean distance. However, in this exercise, we will use *cosine similarity*, which is another very common similarity measure, and is related to the angle between two vectors. It is defined as:\n",
    "\n",
    "$$sim(v_1, v_2)=\\frac{v_1\\cdot v_2}{||v_1||\\cdot||v_2||}$$\n",
    "\n",
    "Where $v_1$ and $v_2$ are vectors and the operator $||\\cdot||$ is the norm of the vector. The function ranges from $[-1,1]$ (where 1 means that the vectors point in the same direction).\n",
    "\n",
    "Define an appropriate function `cosine_sim`. Add a column called `cos_sim_to_avatar` in the df and print out the head of the df, sorted by the similarity. What movies would you recommend now? Is this better than the clustering methods?"
   ]
  },
  {
   "cell_type": "code",
   "execution_count": null,
   "id": "cedf60f3",
   "metadata": {},
   "outputs": [],
   "source": [
    "def cosine_sim(v1, v2):\n",
    "    return ...\n",
    "\n",
    "# get overview_pca encoding of previously watched film\n",
    "prev_watch_enc = ...\n",
    "\n",
    "sims = [] # set up place to store similarities\n",
    "for i, row in df.iterrows():\n",
    "    sims.append(...)\n",
    "\n",
    "df[\"cos_sim_to_avatar\"] = ...\n",
    "df = df.sort_values(...) # sort df\n",
    "df # print to verify"
   ]
  },
  {
   "attachments": {},
   "cell_type": "markdown",
   "id": "40391e82",
   "metadata": {},
   "source": [
    "*Your text answer here*"
   ]
  },
  {
   "attachments": {},
   "cell_type": "markdown",
   "id": "a7b1e343",
   "metadata": {},
   "source": [
    "# Q7 Unsupervised Learning as a Tool\n",
    "\n",
    "At the end of this brief forey into natural language processing, we will end with an interesting task: can a machine predict the genre of a movie based purely on the first 10 words of its overview?\n",
    "\n",
    "First, the following cell shuffles the dataset and splits it into a training and test set. The random seed and random state ensure that the train and test samples are the same for you all the time, and *probably* your classmates too. You can verify this by printing out the dataframes and checking it for yourself."
   ]
  },
  {
   "cell_type": "code",
   "execution_count": 25,
   "id": "f5b1bde1",
   "metadata": {},
   "outputs": [
    {
     "name": "stdout",
     "output_type": "stream",
     "text": [
      "3839 960\n"
     ]
    }
   ],
   "source": [
    "np.random.seed(0)\n",
    "n_train = int(0.8*len(df))\n",
    "df_shuffle = df.sample(frac=1, random_state=42).reset_index(drop=True)\n",
    "df_train = df_shuffle[:n_train].reset_index(drop=True)\n",
    "df_test = df_shuffle[n_train:].reset_index(drop=True)\n",
    "print(len(df_train), len(df_test))"
   ]
  },
  {
   "attachments": {},
   "cell_type": "markdown",
   "id": "92f9d534",
   "metadata": {},
   "source": [
    "## Train, test, evaluate\n",
    "\n",
    "Using a supervised learning method of your choice, try predicting the genre of a movie from the overview. The way you preprocess your data is up to you, and you can take inspiration from the above exercises (e.g. PCA on the one-hot encodings as input, one-hot label encodings as output). There are a number of hyperparameters you can choose depending on your selected method (number of words in your overview, number of dimensions, number of clusters, hyperparameters of your supervised model...), thus, make sure to perform hyperparameter optimization in some way (grid-search, fine-tuning, etc). Once you are happy with how your model is performing, **print out the train_score (accuracy$\\in[0,1]$), test_score (accuracy$\\in[0,1]$), mean training time (in seconds), and mean inference time (in seconds) of your model**.\n",
    "\n",
    "If you are already excited about neural networks, you may also choose to use that as your supervised method. The easiest way to do it is with sklearn's `MLPClassifier` module. The main hyperparameter you would need to tune is the architecture of your model -- how many hidden layers, and how large is each one. For this task, in order to get best performance, you do not necessarily need an MLP (multi-layer perceptron) but feel free to experiment.\n",
    "\n",
    "*Hint: the `train_and_eval` function from the last assignment should be of great help here*"
   ]
  },
  {
   "cell_type": "code",
   "execution_count": null,
   "id": "e9ac379d",
   "metadata": {},
   "outputs": [],
   "source": [
    "# your code here: feel free to add extra cells"
   ]
  },
  {
   "attachments": {},
   "cell_type": "markdown",
   "id": "5976997e",
   "metadata": {},
   "source": [
    "Write a paragraph of ~150 words about how you went about selecting and tuning your model, and how you may want to make improvements to your model if you were to continue working on this. Plots are very good but not strictly necessary (i.e. try to add plots if you can)."
   ]
  },
  {
   "attachments": {},
   "cell_type": "markdown",
   "id": "54186a60",
   "metadata": {},
   "source": [
    "*Your text answer here*"
   ]
  },
  {
   "attachments": {},
   "cell_type": "markdown",
   "id": "14b50007",
   "metadata": {},
   "source": [
    "# BONUS\n",
    "\n",
    "If you are happy with your score and wish to see how well it is doing with respect to other people (a sort of mini-competition), fill out the following form with the train_score (accuracy$\\in[0,1]$), test_score (accuracy$\\in[0,1]$), mean training time (in seconds), and mean inference time (in seconds) of your model, as well as what method you use. You can submit as many times before the deadline as you wish. Your final results will be correlated with your submission in order to validate your results (if we cannot validate them, they will be immediately disqualified).\n",
    "\n",
    "[FORM HERE](https://forms.gle/rXRtXScABH5oDLRWA)"
   ]
  }
 ],
 "metadata": {
  "kernelspec": {
   "display_name": "Python 3 (ipykernel)",
   "language": "python",
   "name": "python3"
  },
  "language_info": {
   "codemirror_mode": {
    "name": "ipython",
    "version": 3
   },
   "file_extension": ".py",
   "mimetype": "text/x-python",
   "name": "python",
   "nbconvert_exporter": "python",
   "pygments_lexer": "ipython3",
   "version": "3.9.6"
  }
 },
 "nbformat": 4,
 "nbformat_minor": 5
}
